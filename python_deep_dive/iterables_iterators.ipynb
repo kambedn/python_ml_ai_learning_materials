{
 "cells": [
  {
   "cell_type": "markdown",
   "id": "e16749d0-af3d-43cf-b8e2-4aabaabb25ad",
   "metadata": {},
   "source": [
    "# Iterators and Iterables"
   ]
  },
  {
   "cell_type": "markdown",
   "id": "929999b6-fd87-448a-bff6-e61cb0012a74",
   "metadata": {},
   "source": [
    "## Iterating Collections"
   ]
  },
  {
   "cell_type": "markdown",
   "id": "3c15741b-2cce-4d68-89f5-60dc74a4e81a",
   "metadata": {},
   "source": [
    "When it comes to sequences, we performed iteration using \\__getitem\\__(0), \\__getitem\\__(1) etc.\n",
    "But iteration can be more general than based on sequential indexing. <br>\n",
    "All we need is:\n",
    "- a bucket of items -> collection, container\n",
    "- getting the next item logic -> no concept of ordering need, it's just a way to get items out of the container one by one. A specific order is not required but can be."
   ]
  },
  {
   "cell_type": "markdown",
   "id": "c82d8d8b-14c9-4c20-ad6f-c623e8fe9cf3",
   "metadata": {},
   "source": [
    "Sets are a good example of unordered collections in Python. They are iterable, but not indexable, meaning you cannot access elements by position. Additionally, since sets are unordered, the order in which elements are returned during iteration is not guaranteed and may vary."
   ]
  },
  {
   "cell_type": "code",
   "execution_count": 1,
   "id": "f073e3f0-f1b6-42d4-9753-c379f114094e",
   "metadata": {},
   "outputs": [
    {
     "name": "stdout",
     "output_type": "stream",
     "text": [
      "z\n",
      "y\n",
      "x\n"
     ]
    }
   ],
   "source": [
    "s = {'x', 'y', 'z'}\n",
    "# s[0]  # TypeError - 'set' object does not support indexing\n",
    "for item in s:\n",
    "    print(item)"
   ]
  },
  {
   "cell_type": "markdown",
   "id": "9e1356ca-544d-4f65-b99a-cddfdfaf42a4",
   "metadata": {},
   "source": [
    "For general iteration, all we really need is the concept of \"get the next item\" in the collection. <br>\n",
    "If a collection object implements a get_next_item method, we can get element out of the collection, one after the other, this way: <br>\n",
    "get_next_item(); get_next_item(); get_next_item()<br><br>\n",
    "When all the elements of the collection have been returned by calling get_next_item, <b>StopIteration</b> exception should be raised."
   ]
  },
  {
   "cell_type": "markdown",
   "id": "28ef3781-6de6-4e87-adbc-9a1d9a3eeaa9",
   "metadata": {},
   "source": [
    "Python has a built-in function: next(). <br>\n",
    "We can implement that function for our custom type by implementing the special method: __next__."
   ]
  },
  {
   "cell_type": "code",
   "execution_count": 2,
   "id": "9eb4ba2f-91be-4cf9-a81e-9f2afea48970",
   "metadata": {},
   "outputs": [
    {
     "name": "stdout",
     "output_type": "stream",
     "text": [
      "0\n",
      "1\n",
      "4\n",
      "9\n",
      "16\n"
     ]
    }
   ],
   "source": [
    "class Squares:\n",
    "    def __init__(self, length):\n",
    "        self.i = 0\n",
    "        self.length = length\n",
    "\n",
    "    def __next__(self):\n",
    "        if self.i >= self.length:\n",
    "            raise StopIteration\n",
    "        else:\n",
    "            result = self.i ** 2\n",
    "            self.i += 1\n",
    "            return result\n",
    "\n",
    "\n",
    "sq = Squares(5)\n",
    "while True:\n",
    "    try:\n",
    "        item = next(sq)\n",
    "        print(item)\n",
    "    except StopIteration:\n",
    "        break\n",
    "        "
   ]
  },
  {
   "cell_type": "markdown",
   "id": "97993a09-945d-4859-bb50-9849412b9c2d",
   "metadata": {},
   "source": [
    "In the example above, we have some issues:\n",
    "- we cannot iteratre using for loops, comprehensions, etc.\n",
    "- once the iteration starts we have no way of re-starting it and once all the items have been iterated (using next) the object becomes useless for iteration (<b>exhausted</b>)."
   ]
  },
  {
   "cell_type": "code",
   "execution_count": 1,
   "id": "bdfde125-8dc9-411d-999b-7dbf3dbf0604",
   "metadata": {},
   "outputs": [],
   "source": [
    "import random"
   ]
  },
  {
   "cell_type": "code",
   "execution_count": 2,
   "id": "29fa5856-d637-4ab8-ba45-59ecef3b8217",
   "metadata": {},
   "outputs": [],
   "source": [
    "class RandomNumbers:\n",
    "    def __init__(self, length, *, range_min=0, range_max=10):\n",
    "        self.length = length\n",
    "        self.range_min = range_min\n",
    "        self.range_max = range_max\n",
    "        self.num_requested = 0\n",
    "\n",
    "    def __len__(self):\n",
    "        return self.length\n",
    "\n",
    "    def __next__(self):\n",
    "        if self.num_requested >= self.length:\n",
    "            raise StopIteration\n",
    "        else:\n",
    "            self.num_requested += 1\n",
    "            return random.randint(self.range_min, self.range_max)\n",
    "        "
   ]
  },
  {
   "cell_type": "code",
   "execution_count": 4,
   "id": "43993992-e551-4931-b24a-abd216610255",
   "metadata": {},
   "outputs": [
    {
     "name": "stdout",
     "output_type": "stream",
     "text": [
      "0\n",
      "2\n",
      "10\n"
     ]
    }
   ],
   "source": [
    "numbers = RandomNumbers(3)\n",
    "print(next(numbers))\n",
    "print(next(numbers))\n",
    "print(next(numbers))"
   ]
  },
  {
   "cell_type": "code",
   "execution_count": 5,
   "id": "a1f7c75f-1385-4663-a4a7-17fa49e4fb46",
   "metadata": {},
   "outputs": [
    {
     "ename": "StopIteration",
     "evalue": "",
     "output_type": "error",
     "traceback": [
      "\u001b[1;31m---------------------------------------------------------------------------\u001b[0m",
      "\u001b[1;31mStopIteration\u001b[0m                             Traceback (most recent call last)",
      "Cell \u001b[1;32mIn[5], line 1\u001b[0m\n\u001b[1;32m----> 1\u001b[0m \u001b[38;5;28;43mnext\u001b[39;49m\u001b[43m(\u001b[49m\u001b[43mnumbers\u001b[49m\u001b[43m)\u001b[49m\n",
      "Cell \u001b[1;32mIn[2], line 13\u001b[0m, in \u001b[0;36mRandomNumbers.__next__\u001b[1;34m(self)\u001b[0m\n\u001b[0;32m     11\u001b[0m \u001b[38;5;28;01mdef\u001b[39;00m \u001b[38;5;21m__next__\u001b[39m(\u001b[38;5;28mself\u001b[39m):\n\u001b[0;32m     12\u001b[0m     \u001b[38;5;28;01mif\u001b[39;00m \u001b[38;5;28mself\u001b[39m\u001b[38;5;241m.\u001b[39mnum_requested \u001b[38;5;241m>\u001b[39m\u001b[38;5;241m=\u001b[39m \u001b[38;5;28mself\u001b[39m\u001b[38;5;241m.\u001b[39mlength:\n\u001b[1;32m---> 13\u001b[0m         \u001b[38;5;28;01mraise\u001b[39;00m \u001b[38;5;167;01mStopIteration\u001b[39;00m\n\u001b[0;32m     14\u001b[0m     \u001b[38;5;28;01melse\u001b[39;00m:\n\u001b[0;32m     15\u001b[0m         \u001b[38;5;28mself\u001b[39m\u001b[38;5;241m.\u001b[39mnum_requested \u001b[38;5;241m+\u001b[39m\u001b[38;5;241m=\u001b[39m \u001b[38;5;241m1\u001b[39m\n",
      "\u001b[1;31mStopIteration\u001b[0m: "
     ]
    }
   ],
   "source": [
    "next(numbers) # exhausted, we have to create another instance of RandomNumbers"
   ]
  },
  {
   "cell_type": "markdown",
   "id": "d0922881-89d0-443a-a6bc-f8ed2af7a966",
   "metadata": {},
   "source": [
    "## Iterators"
   ]
  },
  {
   "cell_type": "markdown",
   "id": "4f0feae5-47c0-4261-b8d2-3d1bf18022d4",
   "metadata": {},
   "source": [
    "We created a custom container type object with a \\_\\_next\\_\\_ method, but it had several drawbacks:\n",
    "- cannot use a for loop,\n",
    "- once we start using next there's no going back,\n",
    "- once we have reached StopIteration we're basically done with the object."
   ]
  },
  {
   "cell_type": "markdown",
   "id": "b6e21ae5-97a5-4bb2-adea-f7e1d1fc0a1f",
   "metadata": {},
   "source": [
    "We saw how to iterate using \\_\\_next\\_\\_, StopIteration, and a while loop. This is actually how Python handles for loops in general.\n",
    "Somehow, we need to tell Python that our class has that \\_\\_next\\_\\_ method and that it will behave in a way consistent with using a while loop to iterate."
   ]
  },
  {
   "cell_type": "markdown",
   "id": "61974e45-ca77-4289-82e6-c3f5cb240625",
   "metadata": {},
   "source": [
    "A protocol is simply a fancy way of saying that our class is going to implement certain functionality that can count on. <br>\n",
    "To let Python know our class can be iterated over using \\_\\_next\\_\\_ we implement the <b>iterator protocol</b>.\n",
    "<br><br>\n",
    "The iterator protocol is quite simple - the class needs to implement two methods:\n",
    "- \\_\\_iter\\_\\_ -> this method should just return the object (class instance) itself,\n",
    "- \\_\\_next\\_\\_ -> this method is resposnible for handling back the next element from collection and raising the StopIteration exception when all elements have been handed out."
   ]
  },
  {
   "cell_type": "markdown",
   "id": "c60e373e-61e4-4620-bb95-5e534f569669",
   "metadata": {},
   "source": [
    "An object that implements these two methods is called an <b>iterator</b>.<br>\n",
    "If an object is an iterator, we can use it with for loops, comprehensions, etc.<br><br>\n",
    "Still one issue though - the iterator cannot be \"restarted\". Once we have looped through all the items the iterator has been exhausted. To loop a second time through the collection we have to create a new instance and loop through that."
   ]
  },
  {
   "cell_type": "code",
   "execution_count": 1,
   "id": "11555733-45e1-4e9b-9475-ad620bbc545e",
   "metadata": {},
   "outputs": [],
   "source": [
    "class Squares:\n",
    "    def __init__(self, length):\n",
    "        self.length = length\n",
    "        self.i = 0\n",
    "\n",
    "    def __next__(self):\n",
    "        if self.i >= self.length:\n",
    "            raise StopIteration\n",
    "        else:\n",
    "            result = self.i ** 2\n",
    "            self.i += 1\n",
    "            return result\n",
    "\n",
    "    def __iter__(self):\n",
    "        return self\n",
    "        "
   ]
  },
  {
   "cell_type": "code",
   "execution_count": 2,
   "id": "239f15ab-d5df-4da6-859c-62ba1bc64150",
   "metadata": {},
   "outputs": [],
   "source": [
    "sq = Squares(5)"
   ]
  },
  {
   "cell_type": "code",
   "execution_count": 3,
   "id": "0a621652-fbd9-4b85-88e0-3a10ac93a3e5",
   "metadata": {},
   "outputs": [
    {
     "name": "stdout",
     "output_type": "stream",
     "text": [
      "0\n",
      "1\n",
      "4\n",
      "9\n",
      "16\n"
     ]
    }
   ],
   "source": [
    "for item in sq:\n",
    "    print(item)"
   ]
  },
  {
   "cell_type": "code",
   "execution_count": 5,
   "id": "23bc2766-b3bb-46b2-acac-f098ea002c6a",
   "metadata": {},
   "outputs": [],
   "source": [
    "for item in sq: # sq iterator has been exhausted - we have to create a new instance to iterate through it\n",
    "    print(item)"
   ]
  },
  {
   "cell_type": "code",
   "execution_count": 6,
   "id": "e352c3e4-8216-4fbc-ba94-f2d177f71d72",
   "metadata": {},
   "outputs": [
    {
     "ename": "StopIteration",
     "evalue": "",
     "output_type": "error",
     "traceback": [
      "\u001b[1;31m---------------------------------------------------------------------------\u001b[0m",
      "\u001b[1;31mStopIteration\u001b[0m                             Traceback (most recent call last)",
      "Cell \u001b[1;32mIn[6], line 1\u001b[0m\n\u001b[1;32m----> 1\u001b[0m \u001b[38;5;28;43mnext\u001b[39;49m\u001b[43m(\u001b[49m\u001b[43msq\u001b[49m\u001b[43m)\u001b[49m\n",
      "Cell \u001b[1;32mIn[1], line 8\u001b[0m, in \u001b[0;36mSquares.__next__\u001b[1;34m(self)\u001b[0m\n\u001b[0;32m      6\u001b[0m \u001b[38;5;28;01mdef\u001b[39;00m \u001b[38;5;21m__next__\u001b[39m(\u001b[38;5;28mself\u001b[39m):\n\u001b[0;32m      7\u001b[0m     \u001b[38;5;28;01mif\u001b[39;00m \u001b[38;5;28mself\u001b[39m\u001b[38;5;241m.\u001b[39mi \u001b[38;5;241m>\u001b[39m\u001b[38;5;241m=\u001b[39m \u001b[38;5;28mself\u001b[39m\u001b[38;5;241m.\u001b[39mlength:\n\u001b[1;32m----> 8\u001b[0m         \u001b[38;5;28;01mraise\u001b[39;00m \u001b[38;5;167;01mStopIteration\u001b[39;00m\n\u001b[0;32m      9\u001b[0m     \u001b[38;5;28;01melse\u001b[39;00m:\n\u001b[0;32m     10\u001b[0m         result \u001b[38;5;241m=\u001b[39m \u001b[38;5;28mself\u001b[39m\u001b[38;5;241m.\u001b[39mi \u001b[38;5;241m*\u001b[39m\u001b[38;5;241m*\u001b[39m \u001b[38;5;241m2\u001b[39m\n",
      "\u001b[1;31mStopIteration\u001b[0m: "
     ]
    }
   ],
   "source": [
    "next(sq)"
   ]
  },
  {
   "cell_type": "code",
   "execution_count": 7,
   "id": "d9faf62e-2770-465c-9e1a-15773e20ab54",
   "metadata": {},
   "outputs": [],
   "source": [
    "sq = Squares(5)"
   ]
  },
  {
   "cell_type": "code",
   "execution_count": 8,
   "id": "cc0b03c7-2b5e-4bbd-a4aa-6146ac9fadd2",
   "metadata": {},
   "outputs": [
    {
     "data": {
      "text/plain": [
       "[(0, 1), (1, 2), (4, 5), (9, 10), (16, 17)]"
      ]
     },
     "execution_count": 8,
     "metadata": {},
     "output_type": "execute_result"
    }
   ],
   "source": [
    "l = [(item, item + 1) for item in sq]\n",
    "l"
   ]
  },
  {
   "cell_type": "code",
   "execution_count": 10,
   "id": "59cfd618-482b-479a-a3a3-a92a9f3a2b6f",
   "metadata": {},
   "outputs": [
    {
     "data": {
      "text/plain": [
       "[]"
      ]
     },
     "execution_count": 10,
     "metadata": {},
     "output_type": "execute_result"
    }
   ],
   "source": [
    "l = [(item, item + 1) for item in sq] # sq iterator has been exhausted - we have to create a new instance to iterate through it\n",
    "l"
   ]
  },
  {
   "cell_type": "code",
   "execution_count": 11,
   "id": "66e9af3f-3ac7-43d9-ac43-aa03c6d74850",
   "metadata": {},
   "outputs": [
    {
     "data": {
      "text/plain": [
       "[(0, 0), (1, 1), (2, 4), (3, 9), (4, 16)]"
      ]
     },
     "execution_count": 11,
     "metadata": {},
     "output_type": "execute_result"
    }
   ],
   "source": [
    "sq = Squares(5)\n",
    "list(enumerate(sq))"
   ]
  },
  {
   "cell_type": "code",
   "execution_count": 13,
   "id": "52c9fa11-bf6d-4559-a3f7-b7dfc3021fad",
   "metadata": {},
   "outputs": [
    {
     "data": {
      "text/plain": [
       "[]"
      ]
     },
     "execution_count": 13,
     "metadata": {},
     "output_type": "execute_result"
    }
   ],
   "source": [
    "list(enumerate(sq)) # sq iterator has been exhausted - we have to create a new instance to iterate through it"
   ]
  },
  {
   "cell_type": "code",
   "execution_count": 14,
   "id": "7c1ffb50-955c-4eec-aed4-6ec817e1cc89",
   "metadata": {},
   "outputs": [
    {
     "data": {
      "text/plain": [
       "[16, 9, 4, 1, 0]"
      ]
     },
     "execution_count": 14,
     "metadata": {},
     "output_type": "execute_result"
    }
   ],
   "source": [
    "sq = Squares(5)\n",
    "sorted(sq, reverse=True)"
   ]
  },
  {
   "cell_type": "code",
   "execution_count": 16,
   "id": "e30efca1-f9c4-4bfa-8eee-9608d22a5543",
   "metadata": {},
   "outputs": [
    {
     "data": {
      "text/plain": [
       "[]"
      ]
     },
     "execution_count": 16,
     "metadata": {},
     "output_type": "execute_result"
    }
   ],
   "source": [
    "sorted(sq, reverse=True) # sq iterator has been exhausted - we have to create a new instance to iterate through it"
   ]
  },
  {
   "cell_type": "markdown",
   "id": "3e6c8607-d2e5-4385-b441-9895a3985765",
   "metadata": {},
   "source": [
    "When using an iterator in a for loop or a comprehension, Python calls \\_\\_iter\\_\\_ function in the first place."
   ]
  },
  {
   "cell_type": "code",
   "execution_count": 17,
   "id": "7d787842-8009-40b8-942f-47a1da3e75d7",
   "metadata": {},
   "outputs": [],
   "source": [
    "class Squares:\n",
    "    def __init__(self, length):\n",
    "        self.length = length\n",
    "        self.i = 0\n",
    "\n",
    "    def __next__(self):\n",
    "        print('__next__ called')\n",
    "        if self.i >= self.length:\n",
    "            raise StopIteration\n",
    "        else:\n",
    "            result = self.i ** 2\n",
    "            self.i += 1\n",
    "            return result\n",
    "\n",
    "    def __iter__(self):\n",
    "        print('__iter__ called')\n",
    "        return self\n",
    "        "
   ]
  },
  {
   "cell_type": "code",
   "execution_count": 18,
   "id": "bb3d353c-23db-448f-bbf0-11a6061061dc",
   "metadata": {},
   "outputs": [
    {
     "name": "stdout",
     "output_type": "stream",
     "text": [
      "__iter__ called\n",
      "__next__ called\n",
      "__next__ called\n",
      "__next__ called\n",
      "__next__ called\n",
      "__next__ called\n",
      "__next__ called\n"
     ]
    },
    {
     "data": {
      "text/plain": [
       "[(0, 0), (1, 1), (2, 4), (3, 9), (4, 16)]"
      ]
     },
     "execution_count": 18,
     "metadata": {},
     "output_type": "execute_result"
    }
   ],
   "source": [
    "sq = Squares(5)\n",
    "list(enumerate(sq))"
   ]
  },
  {
   "cell_type": "markdown",
   "id": "f52fae76-0b58-451b-97a1-39c964566abb",
   "metadata": {},
   "source": [
    "So basically Python does something like below."
   ]
  },
  {
   "cell_type": "code",
   "execution_count": 19,
   "id": "ed71e849-e237-4111-b6ba-81c3887d2e5f",
   "metadata": {},
   "outputs": [
    {
     "name": "stdout",
     "output_type": "stream",
     "text": [
      "__iter__ called\n",
      "__next__ called\n",
      "0\n",
      "__next__ called\n",
      "1\n",
      "__next__ called\n",
      "4\n",
      "__next__ called\n",
      "9\n",
      "__next__ called\n",
      "16\n",
      "__next__ called\n"
     ]
    }
   ],
   "source": [
    "sq = Squares(5)\n",
    "sq_iterator = iter(sq)\n",
    "while True:\n",
    "    try:\n",
    "        item = next(sq_iterator)\n",
    "        print(item)\n",
    "    except StopIteration:\n",
    "        break"
   ]
  },
  {
   "cell_type": "markdown",
   "id": "3b344832-de2c-4a4b-94ad-0ec3ba77ae31",
   "metadata": {},
   "source": [
    "## Iterator vs Iterable"
   ]
  },
  {
   "cell_type": "markdown",
   "id": "6fc65a50-dc39-4b4b-bb02-2a82d5cec38d",
   "metadata": {},
   "source": [
    "We would prefer to seperate these two:\n",
    "- maintaining the data of the collection should be one object,\n",
    "- iterating over the data should be a separate object (iterator). That object is throw-away, but we don't throw away the collection."
   ]
  },
  {
   "cell_type": "markdown",
   "id": "0147debd-dd52-45df-b06c-8b81e45d0a4c",
   "metadata": {},
   "source": [
    "The collection is <b>iterable</b>, but the <b>iterator</b> is reponsible for iterating over the collection. <br>\n",
    "The iterable is created <b>once</b>. <br>\n",
    "The iterator is created <b>every time</b> we need to start a fresh iteration."
   ]
  },
  {
   "cell_type": "markdown",
   "id": "ea9383a8-145f-48e1-a4cb-9010a561b625",
   "metadata": {},
   "source": [
    "So far, our Squares instances are iterators. "
   ]
  },
  {
   "cell_type": "markdown",
   "id": "7c615471-b4e1-4458-b198-cb2287cb9f48",
   "metadata": {},
   "source": [
    "An <b>iterable</b> is a Python object that implements the iterable protocol."
   ]
  },
  {
   "cell_type": "markdown",
   "id": "0865c4e2-88eb-422a-91df-f9df871c2eeb",
   "metadata": {},
   "source": [
    "The iterable protocol requires that the object implement a single method:\n",
    "- \\_\\_iter\\_\\_ -> returns a new instance of the iterator object used to iterate over the iterable."
   ]
  },
  {
   "cell_type": "markdown",
   "id": "a82e1a36-f515-4798-8ce0-e14a86678dea",
   "metadata": {},
   "source": [
    "An iterable is an object that implements:\n",
    "- \\_\\_iter\\_\\_ -> returns an iterator (in general, a <b>new instance).\n",
    "\n",
    "An iterator is an object that implements:\n",
    "- \\_\\_iter\\_\\_ -> returns itself (an iterator - not a new instance)\n",
    "- \\_\\_next\\_\\_ -> returns the next element.\n",
    "\n",
    "Iterables never become exhausted because they always return a new iterator that is then used to iterate."
   ]
  },
  {
   "cell_type": "markdown",
   "id": "f1165319-fa81-4389-b615-e5bb83d15b8c",
   "metadata": {},
   "source": [
    "The first thing Python does when we try to iterate over an object:\n",
    "- it calls iter() to obtain an iterator,\n",
    "- then it starts iterating (using next, StopIteration, etc.) using the iterator returned by iter()."
   ]
  },
  {
   "cell_type": "code",
   "execution_count": 21,
   "id": "fa47a430-fdb9-4cd4-b4a6-9c43e1839906",
   "metadata": {},
   "outputs": [],
   "source": [
    "class Cities:\n",
    "    def __init__(self):\n",
    "        self._cities = ['Paris', 'Berlin', 'Rome', 'Madrid', 'London']\n",
    "\n",
    "    def __len__(self):\n",
    "        return len(self._cities)\n",
    "\n",
    "    def __iter__(self):\n",
    "        return CityIterator(self)\n",
    "\n",
    "\n",
    "class CityIterator:\n",
    "    def __init__(self, city_obj):\n",
    "        self._city_obj = cities\n",
    "        self._index = 0\n",
    "\n",
    "    def __next__(self):\n",
    "        if self._index >= len(self._city_obj):\n",
    "            raise StopIteration\n",
    "        else:\n",
    "            item = self._city_obj._cities[self._index]\n",
    "            self._index += 1\n",
    "            return item\n",
    "\n",
    "    def __iter__(self):\n",
    "        return self\n",
    "        "
   ]
  },
  {
   "cell_type": "code",
   "execution_count": 24,
   "id": "c4aa7d1b-e959-4dcd-a574-16bc2f9c5586",
   "metadata": {},
   "outputs": [
    {
     "name": "stdout",
     "output_type": "stream",
     "text": [
      "Paris\n",
      "Berlin\n",
      "Rome\n",
      "Madrid\n",
      "London\n"
     ]
    }
   ],
   "source": [
    "cities = Cities()  # an iterable\n",
    "for city in cities:  # an instance of CityIterator is created\n",
    "    print(city)"
   ]
  },
  {
   "cell_type": "code",
   "execution_count": 25,
   "id": "196d36ba-051f-4e00-8e39-07d6000413c8",
   "metadata": {},
   "outputs": [
    {
     "name": "stdout",
     "output_type": "stream",
     "text": [
      "Paris\n",
      "Berlin\n",
      "Rome\n",
      "Madrid\n",
      "London\n"
     ]
    }
   ],
   "source": [
    "for city in cities: # we don't have to recreate the collection\n",
    "    print(city)"
   ]
  },
  {
   "cell_type": "markdown",
   "id": "1d4de5d8-ba8b-4abd-9d5c-41fc97916f5a",
   "metadata": {},
   "source": [
    "Let's now add some print statements to see how things work behind the scenes."
   ]
  },
  {
   "cell_type": "code",
   "execution_count": 39,
   "id": "2642878d-a687-4ed7-a5cd-30c830b4107a",
   "metadata": {},
   "outputs": [],
   "source": [
    "class Cities:\n",
    "    def __init__(self):\n",
    "        self._cities = ['Paris', 'Berlin', 'Rome', 'Madrid', 'London']\n",
    "\n",
    "    def __len__(self):\n",
    "        return len(self._cities)\n",
    "\n",
    "    def __iter__(self):\n",
    "        print(\"Cities __iter__ called\")\n",
    "        return self.CityIterator(self)\n",
    "\n",
    "\n",
    "    class CityIterator:\n",
    "        def __init__(self, city_obj):\n",
    "            print(\"New CityIterator instance created!\")\n",
    "            self._city_obj = cities\n",
    "            self._index = 0\n",
    "    \n",
    "        def __next__(self):\n",
    "            print(\"CityIterator __next__ called\")\n",
    "            if self._index >= len(self._city_obj):\n",
    "                raise StopIteration\n",
    "            else:\n",
    "                item = self._city_obj._cities[self._index]\n",
    "                self._index += 1\n",
    "                return item\n",
    "    \n",
    "        def __iter__(self):\n",
    "            print(\"CityIterator __iter__ called\")\n",
    "            return self\n",
    "            "
   ]
  },
  {
   "cell_type": "markdown",
   "id": "a878e96d-6993-4171-8c53-a004e11ead8d",
   "metadata": {},
   "source": [
    "Each time an instance of Cities is iterated, a new instance of CityIterator is created."
   ]
  },
  {
   "cell_type": "code",
   "execution_count": 40,
   "id": "c43f7afe-be34-48cf-857a-7481e12ff2b9",
   "metadata": {},
   "outputs": [
    {
     "name": "stdout",
     "output_type": "stream",
     "text": [
      "Cities __iter__ called\n",
      "New CityIterator instance created!\n",
      "CityIterator __next__ called\n",
      "Paris\n",
      "CityIterator __next__ called\n",
      "Berlin\n",
      "CityIterator __next__ called\n",
      "Rome\n",
      "CityIterator __next__ called\n",
      "Madrid\n",
      "CityIterator __next__ called\n",
      "London\n",
      "CityIterator __next__ called\n"
     ]
    }
   ],
   "source": [
    "cities = Cities()  # an iterable\n",
    "for city in cities:\n",
    "    print(city)"
   ]
  },
  {
   "cell_type": "code",
   "execution_count": 41,
   "id": "46af0a45-b91d-45b6-afcd-07769945c9ca",
   "metadata": {},
   "outputs": [
    {
     "name": "stdout",
     "output_type": "stream",
     "text": [
      "Cities __iter__ called\n",
      "New CityIterator instance created!\n",
      "CityIterator __next__ called\n",
      "Paris\n",
      "CityIterator __next__ called\n",
      "Berlin\n",
      "CityIterator __next__ called\n",
      "Rome\n",
      "CityIterator __next__ called\n",
      "Madrid\n",
      "CityIterator __next__ called\n",
      "London\n",
      "CityIterator __next__ called\n"
     ]
    }
   ],
   "source": [
    "for city in cities:\n",
    "    print(city)"
   ]
  },
  {
   "cell_type": "code",
   "execution_count": 42,
   "id": "3b87fab0-4743-415c-98dc-f15c827fd2ef",
   "metadata": {},
   "outputs": [
    {
     "name": "stdout",
     "output_type": "stream",
     "text": [
      "Cities __iter__ called\n",
      "New CityIterator instance created!\n",
      "Cities __iter__ called\n",
      "New CityIterator instance created!\n",
      "<__main__.Cities.CityIterator object at 0x000002558C51B290> <__main__.Cities.CityIterator object at 0x000002558C517850>\n"
     ]
    }
   ],
   "source": [
    "c_iter_1 = cities.__iter__()\n",
    "c_iter_2 = cities.__iter__()\n",
    "print(c_iter_1, c_iter_2)"
   ]
  },
  {
   "cell_type": "code",
   "execution_count": 45,
   "id": "bf5a885c-1f95-424a-a64a-09283deea84a",
   "metadata": {},
   "outputs": [
    {
     "data": {
      "text/plain": [
       "False"
      ]
     },
     "execution_count": 45,
     "metadata": {},
     "output_type": "execute_result"
    }
   ],
   "source": [
    "c_iter_1 is c_iter_2  # different objects"
   ]
  },
  {
   "cell_type": "code",
   "execution_count": 44,
   "id": "5972fd7c-01e5-4314-a727-3d66c37f30d5",
   "metadata": {},
   "outputs": [
    {
     "data": {
      "text/plain": [
       "(2566449640080, 2566449625168)"
      ]
     },
     "execution_count": 44,
     "metadata": {},
     "output_type": "execute_result"
    }
   ],
   "source": [
    "id(c_iter_1), id(c_iter_2)"
   ]
  },
  {
   "cell_type": "markdown",
   "id": "5b45f461-05bc-4886-bd2e-ec0fe12c138a",
   "metadata": {},
   "source": [
    "If our custom class was both a sequence and an iterable, Python would use its \\_\\_iter\\_\\_ function to iterate through the object. <br>\n",
    "The way Python works is this:\n",
    "- it tests if the class implements the iterator protocol and use it if it is implemented,\n",
    "- if it doesn't find an iterator, then it tries to use \\_\\_getitem\\_\\_ method,\n",
    "- else TypeError is raised."
   ]
  },
  {
   "cell_type": "code",
   "execution_count": 26,
   "id": "5576cfbf-9a21-44fc-9518-0a892f51256b",
   "metadata": {},
   "outputs": [],
   "source": [
    "l = [1, 2, 3, 4]"
   ]
  },
  {
   "cell_type": "code",
   "execution_count": 27,
   "id": "9fbe7511-ab3d-4933-b84d-149d9783aa83",
   "metadata": {},
   "outputs": [
    {
     "data": {
      "text/plain": [
       "<list_iterator at 0x2558c1d0a90>"
      ]
     },
     "execution_count": 27,
     "metadata": {},
     "output_type": "execute_result"
    }
   ],
   "source": [
    "iter(l)"
   ]
  },
  {
   "cell_type": "code",
   "execution_count": 28,
   "id": "0636a49d-e0df-40ed-8b16-7934de94f712",
   "metadata": {},
   "outputs": [
    {
     "data": {
      "text/plain": [
       "<function list.__getitem__>"
      ]
     },
     "execution_count": 28,
     "metadata": {},
     "output_type": "execute_result"
    }
   ],
   "source": [
    "l.__getitem__"
   ]
  },
  {
   "cell_type": "code",
   "execution_count": 29,
   "id": "f613e306-1cac-4fe9-aab2-29374d031557",
   "metadata": {},
   "outputs": [
    {
     "data": {
      "text/plain": [
       "<list_iterator at 0x2558c1d08e0>"
      ]
     },
     "execution_count": 29,
     "metadata": {},
     "output_type": "execute_result"
    }
   ],
   "source": [
    "l_iter = iter(l)\n",
    "l_iter"
   ]
  },
  {
   "cell_type": "code",
   "execution_count": 30,
   "id": "5cd978cb-5f89-4236-8139-494542f158b2",
   "metadata": {},
   "outputs": [
    {
     "name": "stdout",
     "output_type": "stream",
     "text": [
      "1\n",
      "2\n",
      "3\n",
      "4\n"
     ]
    }
   ],
   "source": [
    "for i in l_iter:\n",
    "    print(i)"
   ]
  },
  {
   "cell_type": "code",
   "execution_count": 32,
   "id": "c750cf1e-a0f7-4728-bc5f-6e09452e0294",
   "metadata": {},
   "outputs": [],
   "source": [
    "for i in l_iter:  # exhausted\n",
    "    print(i)"
   ]
  },
  {
   "cell_type": "code",
   "execution_count": 33,
   "id": "9a1f26af-54ed-4acf-9824-60d49bc29f89",
   "metadata": {},
   "outputs": [
    {
     "ename": "StopIteration",
     "evalue": "",
     "output_type": "error",
     "traceback": [
      "\u001b[1;31m---------------------------------------------------------------------------\u001b[0m",
      "\u001b[1;31mStopIteration\u001b[0m                             Traceback (most recent call last)",
      "Cell \u001b[1;32mIn[33], line 1\u001b[0m\n\u001b[1;32m----> 1\u001b[0m \u001b[38;5;28;43mnext\u001b[39;49m\u001b[43m(\u001b[49m\u001b[43ml_iter\u001b[49m\u001b[43m)\u001b[49m\n",
      "\u001b[1;31mStopIteration\u001b[0m: "
     ]
    }
   ],
   "source": [
    "next(l_iter)"
   ]
  },
  {
   "cell_type": "code",
   "execution_count": 34,
   "id": "ac85f143-d9f5-472a-b6d0-d6ef8b9ec513",
   "metadata": {},
   "outputs": [
    {
     "data": {
      "text/plain": [
       "<set_iterator at 0x2558c515680>"
      ]
     },
     "execution_count": 34,
     "metadata": {},
     "output_type": "execute_result"
    }
   ],
   "source": [
    "s = {1, 2, 3}\n",
    "iter(s)"
   ]
  },
  {
   "cell_type": "code",
   "execution_count": 35,
   "id": "b6ab42d8-7041-44f3-b9a4-fb8b548913e6",
   "metadata": {},
   "outputs": [],
   "source": [
    "s_iter = iter(s)"
   ]
  },
  {
   "cell_type": "code",
   "execution_count": 36,
   "id": "bc62147a-5d0c-41e6-b0ca-31f6590ec75d",
   "metadata": {},
   "outputs": [
    {
     "data": {
      "text/plain": [
       "1"
      ]
     },
     "execution_count": 36,
     "metadata": {},
     "output_type": "execute_result"
    }
   ],
   "source": [
    "next(s_iter)"
   ]
  },
  {
   "cell_type": "code",
   "execution_count": 38,
   "id": "7dc1ca4b-b27a-4399-af31-b5e31231edc0",
   "metadata": {},
   "outputs": [
    {
     "ename": "AttributeError",
     "evalue": "'set' object has no attribute '__getitem__'",
     "output_type": "error",
     "traceback": [
      "\u001b[1;31m---------------------------------------------------------------------------\u001b[0m",
      "\u001b[1;31mAttributeError\u001b[0m                            Traceback (most recent call last)",
      "Cell \u001b[1;32mIn[38], line 1\u001b[0m\n\u001b[1;32m----> 1\u001b[0m \u001b[43ms\u001b[49m\u001b[38;5;241;43m.\u001b[39;49m\u001b[38;5;21;43m__getitem__\u001b[39;49m  \u001b[38;5;66;03m# set is not a sequence type so it does not support indexing\u001b[39;00m\n",
      "\u001b[1;31mAttributeError\u001b[0m: 'set' object has no attribute '__getitem__'"
     ]
    }
   ],
   "source": [
    "s.__getitem__  # set is not a sequence type so it does not support indexing"
   ]
  },
  {
   "cell_type": "markdown",
   "id": "1e7bcbda-8822-4dc8-bc97-1a74e554c281",
   "metadata": {},
   "source": [
    "## Cyclic Iterators\n",
    "Cyclic iterators cannot be exhausted. After iterating through the entire iterable, they start over from the beginning."
   ]
  },
  {
   "cell_type": "code",
   "execution_count": 11,
   "id": "648cc06a-d2b7-4a37-b3e3-a6fe3d30d825",
   "metadata": {},
   "outputs": [],
   "source": [
    "class CyclicIterator:\n",
    "    def __init__(self, lst):\n",
    "        self.lst = lst\n",
    "        self.i = 0\n",
    "\n",
    "    def __iter__(self):\n",
    "        return self\n",
    "\n",
    "    def __next__(self):\n",
    "        result = self.lst[self.i % len(self.lst)]\n",
    "        self.i += 1\n",
    "        return result\n",
    "        "
   ]
  },
  {
   "cell_type": "code",
   "execution_count": 12,
   "id": "849ae7d4-9c18-4e52-94ff-0d1332e76667",
   "metadata": {},
   "outputs": [],
   "source": [
    "iter_cycl = CyclicIterator('NSWE')"
   ]
  },
  {
   "cell_type": "code",
   "execution_count": 13,
   "id": "996f7d1f-1c05-4129-b719-8fccc32e41bb",
   "metadata": {},
   "outputs": [
    {
     "name": "stdout",
     "output_type": "stream",
     "text": [
      "N\n",
      "S\n",
      "W\n",
      "E\n",
      "N\n",
      "S\n",
      "W\n",
      "E\n",
      "N\n",
      "S\n"
     ]
    }
   ],
   "source": [
    "for _ in range(10):\n",
    "    print(next(iter_cycl))"
   ]
  },
  {
   "cell_type": "code",
   "execution_count": 15,
   "id": "f91538d5-8be8-478e-8fad-422ac4bf8e66",
   "metadata": {},
   "outputs": [],
   "source": [
    "numbers = list(range(1, 11))\n",
    "iter_cycl = CyclicIterator('NSWE')"
   ]
  },
  {
   "cell_type": "code",
   "execution_count": 16,
   "id": "2b96e110-e162-4010-bd81-d56791cbff0b",
   "metadata": {},
   "outputs": [
    {
     "data": {
      "text/plain": [
       "[(1, 'N'),\n",
       " (2, 'S'),\n",
       " (3, 'W'),\n",
       " (4, 'E'),\n",
       " (5, 'N'),\n",
       " (6, 'S'),\n",
       " (7, 'W'),\n",
       " (8, 'E'),\n",
       " (9, 'N'),\n",
       " (10, 'S')]"
      ]
     },
     "execution_count": 16,
     "metadata": {},
     "output_type": "execute_result"
    }
   ],
   "source": [
    "list(zip(numbers, iter_cycl)) # numbers will get exhausted earlier - it stops the iteration"
   ]
  },
  {
   "cell_type": "code",
   "execution_count": 17,
   "id": "d05ab623-33b4-428e-b487-fb45aa7cbeb9",
   "metadata": {},
   "outputs": [
    {
     "data": {
      "text/plain": [
       "[(1, 'N'),\n",
       " (2, 'S'),\n",
       " (3, 'W'),\n",
       " (4, 'E'),\n",
       " (5, 'N'),\n",
       " (6, 'S'),\n",
       " (7, 'W'),\n",
       " (8, 'E'),\n",
       " (9, 'N'),\n",
       " (10, 'S')]"
      ]
     },
     "execution_count": 17,
     "metadata": {},
     "output_type": "execute_result"
    }
   ],
   "source": [
    "list(zip(numbers, 'NSWE' * 30))  # but not as efficient as cyclic iterator when the first sequence is big"
   ]
  },
  {
   "cell_type": "code",
   "execution_count": 24,
   "id": "455cc335-48e9-4a00-a87c-35f68c32deb8",
   "metadata": {},
   "outputs": [
    {
     "data": {
      "text/plain": [
       "[(1, 'N'),\n",
       " (2, 'S'),\n",
       " (3, 'W'),\n",
       " (4, 'E'),\n",
       " (5, 'N'),\n",
       " (6, 'S'),\n",
       " (7, 'W'),\n",
       " (8, 'E'),\n",
       " (9, 'N'),\n",
       " (10, 'S')]"
      ]
     },
     "execution_count": 24,
     "metadata": {},
     "output_type": "execute_result"
    }
   ],
   "source": [
    "import itertools\n",
    "\n",
    "# itertools.cycle() is a method that can make a cycling iterator out of the given iterable\n",
    "iter_cycl = itertools.cycle('NSWE')\n",
    "n = 10\n",
    "list(zip(list(range(1, n + 1)), iter_cycl))"
   ]
  },
  {
   "cell_type": "code",
   "execution_count": 26,
   "id": "ea231b3e-5796-40c0-b743-8ae2c018fbc2",
   "metadata": {},
   "outputs": [
    {
     "name": "stdout",
     "output_type": "stream",
     "text": [
      "Help on class cycle in module itertools:\n",
      "\n",
      "class cycle(builtins.object)\n",
      " |  cycle(iterable, /)\n",
      " |  \n",
      " |  Return elements from the iterable until it is exhausted. Then repeat the sequence indefinitely.\n",
      " |  \n",
      " |  Methods defined here:\n",
      " |  \n",
      " |  __getattribute__(self, name, /)\n",
      " |      Return getattr(self, name).\n",
      " |  \n",
      " |  __iter__(self, /)\n",
      " |      Implement iter(self).\n",
      " |  \n",
      " |  __next__(self, /)\n",
      " |      Implement next(self).\n",
      " |  \n",
      " |  __reduce__(...)\n",
      " |      Return state information for pickling.\n",
      " |  \n",
      " |  __setstate__(...)\n",
      " |      Set state information for unpickling.\n",
      " |  \n",
      " |  ----------------------------------------------------------------------\n",
      " |  Static methods defined here:\n",
      " |  \n",
      " |  __new__(*args, **kwargs) from builtins.type\n",
      " |      Create and return a new object.  See help(type) for accurate signature.\n",
      "\n"
     ]
    }
   ],
   "source": [
    "help(itertools.cycle)  # we can pass an iterable also"
   ]
  },
  {
   "cell_type": "markdown",
   "id": "f0efb6be-62d1-45a5-a6b1-f97c73aab889",
   "metadata": {},
   "source": [
    "We can easily implement a cyclic iterator by ourselves."
   ]
  },
  {
   "cell_type": "code",
   "execution_count": 27,
   "id": "25fe6fa0-0614-43c9-b74d-bffc46a05af3",
   "metadata": {},
   "outputs": [],
   "source": [
    "class CyclicIterator:\n",
    "    def __init__(self, iterable):\n",
    "        self.iterable = iterable\n",
    "        self.iterator = iter(self.iterable) # basically creating a new iterator\n",
    "\n",
    "    def __iter__(self):\n",
    "        return self\n",
    "\n",
    "    def __next__(self):\n",
    "        try:\n",
    "            item = next(self.iterator)\n",
    "        except StopIteration:\n",
    "            self.iterator = iter(self.iterable) # once an iterator is exhausted, we create a new one and iterate through it\n",
    "            item = next(self.iterator)\n",
    "        finally:\n",
    "            return item\n",
    "            "
   ]
  },
  {
   "cell_type": "code",
   "execution_count": 28,
   "id": "96a1beaf-26bd-4782-9506-0ea5b5d53dc7",
   "metadata": {},
   "outputs": [],
   "source": [
    "iter_cycl = CyclicIterator('abc')"
   ]
  },
  {
   "cell_type": "code",
   "execution_count": 29,
   "id": "a14f4745-a584-485b-8236-45d833a0b11c",
   "metadata": {},
   "outputs": [
    {
     "name": "stdout",
     "output_type": "stream",
     "text": [
      "0 a\n",
      "1 b\n",
      "2 c\n",
      "3 a\n",
      "4 b\n",
      "5 c\n",
      "6 a\n",
      "7 b\n",
      "8 c\n",
      "9 a\n"
     ]
    }
   ],
   "source": [
    "for i in range(10):\n",
    "    print(i, next(iter_cycl))"
   ]
  },
  {
   "cell_type": "markdown",
   "id": "77f04528-b95f-46a8-ba1d-e491f276f3cf",
   "metadata": {},
   "source": [
    "## Lazy Iterables"
   ]
  },
  {
   "cell_type": "markdown",
   "id": "51a06a9a-bc46-480b-b051-0e15b630a11f",
   "metadata": {},
   "source": [
    "Lazy Evaluation - it is often used in class properties. <br>\n",
    "It means that properties of classes may not always be populated when the object is created and/or the value of a property only becomes known when the property is requested - deferred."
   ]
  },
  {
   "attachments": {
    "d8e09ed7-9317-46d3-9a21-e988776c5553.png": {
     "image/png": "[encoded data removed]"
    }
   },
   "cell_type": "markdown",
   "id": "6cf70fcb-7138-49f9-ac4c-9567e35a4e12",
   "metadata": {},
   "source": [
    "![image.png](attachment:d8e09ed7-9317-46d3-9a21-e988776c5553.png)"
   ]
  },
  {
   "cell_type": "markdown",
   "id": "8c9ca728-ad35-4a5c-a4a0-dbcfe1fd8e1e",
   "metadata": {},
   "source": [
    "We can apply the same concept to certain iterables. We do not calculate the next item in an iterable until it is actually requested. <br>"
   ]
  },
  {
   "cell_type": "markdown",
   "id": "f574fa3b-0da9-46cb-af94-759cdce8c7a5",
   "metadata": {},
   "source": [
    "Example:<br>\n",
    "iterable -> Factorial(n)<br>\n",
    "    - will return factorials of consecutive integers from 0 to n - 1,<br>\n",
    "    - do not pre-compute all the factorials,<br>\n",
    "    - wait unil next requests one, then calculate it.<br>\n",
    "That is the form of lazy evaluation."
   ]
  },
  {
   "cell_type": "markdown",
   "id": "9d35ec73-12c9-4b78-a95c-d0703094518a",
   "metadata": {},
   "source": [
    "Using that lazy evaluation technique menas that we can actually have infinite iterables. Since items are not computed until they are requested, we can have an infinite number of items in the collection."
   ]
  },
  {
   "cell_type": "code",
   "execution_count": 3,
   "id": "7d094ce4-aa3b-4d57-8b7d-36a4a50c583f",
   "metadata": {},
   "outputs": [],
   "source": [
    "import math"
   ]
  },
  {
   "cell_type": "code",
   "execution_count": 4,
   "id": "e3ed9f9d-7947-4dd1-b3b6-87860a9ef540",
   "metadata": {},
   "outputs": [],
   "source": [
    "class Circle:\n",
    "    def __init__(self, r):\n",
    "        self.radius = r\n",
    "        self._area = None\n",
    "\n",
    "    @property\n",
    "    def radius(self):\n",
    "        return self._radius\n",
    "\n",
    "    @radius.setter\n",
    "    def radius(self, r):\n",
    "        self._radius = r\n",
    "        self._area = None\n",
    "\n",
    "    @property\n",
    "    def area(self):\n",
    "        if self._area is None:\n",
    "            print('Calculating area...')\n",
    "            self._area = math.pi * (self.radius ** 2)\n",
    "        return self._area\n",
    "        "
   ]
  },
  {
   "cell_type": "code",
   "execution_count": 12,
   "id": "da50ab70-f374-4b6e-9887-ac55b76385eb",
   "metadata": {},
   "outputs": [],
   "source": [
    "c = Circle(1)"
   ]
  },
  {
   "cell_type": "code",
   "execution_count": 13,
   "id": "1b4e5d07-3ac2-485c-9384-2815048c3477",
   "metadata": {},
   "outputs": [
    {
     "name": "stdout",
     "output_type": "stream",
     "text": [
      "Calculating area...\n"
     ]
    },
    {
     "data": {
      "text/plain": [
       "3.141592653589793"
      ]
     },
     "execution_count": 13,
     "metadata": {},
     "output_type": "execute_result"
    }
   ],
   "source": [
    "c.area"
   ]
  },
  {
   "cell_type": "code",
   "execution_count": 14,
   "id": "71a0280a-535b-4621-bf45-4ab0dbaeb4cc",
   "metadata": {},
   "outputs": [
    {
     "data": {
      "text/plain": [
       "3.141592653589793"
      ]
     },
     "execution_count": 14,
     "metadata": {},
     "output_type": "execute_result"
    }
   ],
   "source": [
    "c.area"
   ]
  },
  {
   "cell_type": "code",
   "execution_count": 15,
   "id": "46faaa7c-2dea-4a5a-8dd7-ec2983aa56fd",
   "metadata": {},
   "outputs": [],
   "source": [
    "c.radius = 2"
   ]
  },
  {
   "cell_type": "code",
   "execution_count": 16,
   "id": "b82f04b6-fec5-4241-b10c-6eea831aef94",
   "metadata": {},
   "outputs": [
    {
     "name": "stdout",
     "output_type": "stream",
     "text": [
      "Calculating area...\n"
     ]
    },
    {
     "data": {
      "text/plain": [
       "12.566370614359172"
      ]
     },
     "execution_count": 16,
     "metadata": {},
     "output_type": "execute_result"
    }
   ],
   "source": [
    "c.area"
   ]
  },
  {
   "cell_type": "code",
   "execution_count": 24,
   "id": "fab0b8d7-798a-4175-9916-f21a1400d9d9",
   "metadata": {},
   "outputs": [],
   "source": [
    "class Factorials:\n",
    "    # iterable does very little\n",
    "    def __iter__(self):\n",
    "        return self.FactIter()\n",
    "\n",
    "    class FactIter:\n",
    "        # iterator does most of the work\n",
    "        def __init__(self):\n",
    "            self.i = 0\n",
    "\n",
    "        def __iter__(self):\n",
    "            return self\n",
    "\n",
    "        def __next__(self):\n",
    "            result = math.factorial(self.i)\n",
    "            self.i += 1\n",
    "            return result\n",
    "                "
   ]
  },
  {
   "cell_type": "code",
   "execution_count": 25,
   "id": "51e6693d-6ce9-40e1-99f2-bf179662ebac",
   "metadata": {},
   "outputs": [],
   "source": [
    "facts = Factorials()"
   ]
  },
  {
   "cell_type": "code",
   "execution_count": 26,
   "id": "55b42cb0-ab1b-449f-8824-5ae125d97b8f",
   "metadata": {},
   "outputs": [],
   "source": [
    "fact_iter = iter(facts)"
   ]
  },
  {
   "cell_type": "code",
   "execution_count": 27,
   "id": "aa8555f7-8814-40d1-8ca1-8f22f6b8a4d5",
   "metadata": {},
   "outputs": [
    {
     "data": {
      "text/plain": [
       "(1, 1, 2)"
      ]
     },
     "execution_count": 27,
     "metadata": {},
     "output_type": "execute_result"
    }
   ],
   "source": [
    "next(fact_iter), next(fact_iter), next(fact_iter)"
   ]
  },
  {
   "cell_type": "code",
   "execution_count": 28,
   "id": "1623f796-ae56-43a3-8562-9fb4b19a4f38",
   "metadata": {},
   "outputs": [
    {
     "data": {
      "text/plain": [
       "6"
      ]
     },
     "execution_count": 28,
     "metadata": {},
     "output_type": "execute_result"
    }
   ],
   "source": [
    "next(fact_iter)"
   ]
  },
  {
   "cell_type": "markdown",
   "id": "c6a40b8e-58d4-40eb-a56f-2b4b394462b0",
   "metadata": {},
   "source": [
    "## Python's Built-In Iterables and Iterators"
   ]
  },
  {
   "cell_type": "markdown",
   "id": "81f5bcfd-6397-4955-be44-6693a49ed263",
   "metadata": {},
   "source": [
    "Python provides many functions that return iterables or iterators. Additionally, the iterators perform lazy evaluation. <br>\n",
    "range(10) -> iterable <br>\n",
    "zip(l1, l2) -> iterator <br>\n",
    "enumerate(l1) -> iterator <br>\n",
    "open('cars.csv') -> iterator <br>\n",
    "dictionary.keys() -> iterable <br>\n",
    "dictionary.values() -> iterable <br>\n",
    "dictionary.items() -> iterable <br>\n",
    "..."
   ]
  },
  {
   "cell_type": "code",
   "execution_count": 1,
   "id": "7cb19f91-fff6-4cf4-81d7-86c1e902412f",
   "metadata": {},
   "outputs": [
    {
     "data": {
      "text/plain": [
       "range(0, 10)"
      ]
     },
     "execution_count": 1,
     "metadata": {},
     "output_type": "execute_result"
    }
   ],
   "source": [
    "r = range(10)\n",
    "r"
   ]
  },
  {
   "cell_type": "code",
   "execution_count": 2,
   "id": "24834df8-8c8f-44c3-a55d-55b4c70bbdcc",
   "metadata": {},
   "outputs": [
    {
     "data": {
      "text/plain": [
       "range"
      ]
     },
     "execution_count": 2,
     "metadata": {},
     "output_type": "execute_result"
    }
   ],
   "source": [
    "type(r)"
   ]
  },
  {
   "cell_type": "code",
   "execution_count": 3,
   "id": "f72613bd-a1de-4267-b71e-920c7becb11c",
   "metadata": {},
   "outputs": [
    {
     "name": "stdout",
     "output_type": "stream",
     "text": [
      "True\n",
      "False\n"
     ]
    }
   ],
   "source": [
    "print('__iter__' in dir(r))\n",
    "print('__next__' in dir(r))"
   ]
  },
  {
   "cell_type": "code",
   "execution_count": 4,
   "id": "f2d8b9a2-b10b-4121-a065-b6f5e8491152",
   "metadata": {},
   "outputs": [
    {
     "data": {
      "text/plain": [
       "<range_iterator at 0x283c9d0f070>"
      ]
     },
     "execution_count": 4,
     "metadata": {},
     "output_type": "execute_result"
    }
   ],
   "source": [
    "iter(r)"
   ]
  },
  {
   "cell_type": "code",
   "execution_count": 5,
   "id": "ac808dac-3124-4254-a34d-fc40deb131a6",
   "metadata": {},
   "outputs": [
    {
     "data": {
      "text/plain": [
       "[0, 1, 2, 3, 4, 5, 6, 7, 8, 9]"
      ]
     },
     "execution_count": 5,
     "metadata": {},
     "output_type": "execute_result"
    }
   ],
   "source": [
    "[num for num in r]"
   ]
  },
  {
   "cell_type": "code",
   "execution_count": 6,
   "id": "2cd63ac9-4f2a-4434-8b16-8e4e02af7dab",
   "metadata": {},
   "outputs": [
    {
     "data": {
      "text/plain": [
       "<zip at 0x283c9dc3100>"
      ]
     },
     "execution_count": 6,
     "metadata": {},
     "output_type": "execute_result"
    }
   ],
   "source": [
    "z = zip([1, 2, 3], 'abc')\n",
    "z"
   ]
  },
  {
   "cell_type": "code",
   "execution_count": 7,
   "id": "9fa0d9fd-f87c-4de8-91fb-18033b98895d",
   "metadata": {},
   "outputs": [
    {
     "name": "stdout",
     "output_type": "stream",
     "text": [
      "True\n",
      "True\n"
     ]
    }
   ],
   "source": [
    "print('__iter__' in dir(z))\n",
    "print('__next__' in dir(z))"
   ]
  },
  {
   "cell_type": "code",
   "execution_count": 8,
   "id": "114ee901-afa0-4367-8bd0-c1917191ba0e",
   "metadata": {},
   "outputs": [
    {
     "data": {
      "text/plain": [
       "[(1, 'a'), (2, 'b'), (3, 'c')]"
      ]
     },
     "execution_count": 8,
     "metadata": {},
     "output_type": "execute_result"
    }
   ],
   "source": [
    "list(z)"
   ]
  },
  {
   "cell_type": "code",
   "execution_count": 11,
   "id": "88d8e4da-51c4-4dc6-9db7-e233a56373ad",
   "metadata": {},
   "outputs": [
    {
     "data": {
      "text/plain": [
       "[]"
      ]
     },
     "execution_count": 11,
     "metadata": {},
     "output_type": "execute_result"
    }
   ],
   "source": [
    "list(z)  # exhausted -> returns an empty list"
   ]
  },
  {
   "cell_type": "code",
   "execution_count": 13,
   "id": "ae343656-313a-4cde-827c-84301e7fb06a",
   "metadata": {},
   "outputs": [
    {
     "name": "stdout",
     "output_type": "stream",
     "text": [
      "<class '_io.TextIOWrapper'>\n",
      "True\n",
      "True\n",
      "True\n"
     ]
    }
   ],
   "source": [
    "with open('file.txt') as f:\n",
    "    print(type(f))\n",
    "    print('__iter__' in dir(f))\n",
    "    print('__next__' in dir(f))\n",
    "    print(iter(f) is f)"
   ]
  },
  {
   "cell_type": "code",
   "execution_count": 14,
   "id": "a0029caa-3a88-45e1-ae3d-2c8a1f1fe965",
   "metadata": {},
   "outputs": [
    {
     "data": {
      "text/plain": [
       "['a,b,c,d,e\\n', '1,2,3,4,5\\n', '6,7,8,9,10\\n', '11,12,13,14,15']"
      ]
     },
     "execution_count": 14,
     "metadata": {},
     "output_type": "execute_result"
    }
   ],
   "source": [
    "with open('file.txt') as f:\n",
    "    l = f.readlines()\n",
    "\n",
    "l"
   ]
  },
  {
   "cell_type": "code",
   "execution_count": 15,
   "id": "9ac599a2-824d-47f6-954e-0874f2533930",
   "metadata": {},
   "outputs": [
    {
     "data": {
      "text/plain": [
       "enumerate"
      ]
     },
     "execution_count": 15,
     "metadata": {},
     "output_type": "execute_result"
    }
   ],
   "source": [
    "e = enumerate('Python Rocks!')\n",
    "type(e)"
   ]
  },
  {
   "cell_type": "code",
   "execution_count": 16,
   "id": "4de3243f-5ec7-4e47-a837-021f3872ffff",
   "metadata": {},
   "outputs": [
    {
     "data": {
      "text/plain": [
       "True"
      ]
     },
     "execution_count": 16,
     "metadata": {},
     "output_type": "execute_result"
    }
   ],
   "source": [
    "iter(e) is e"
   ]
  },
  {
   "cell_type": "code",
   "execution_count": 17,
   "id": "cb675218-d38b-40d9-9c1d-8b47a68c9770",
   "metadata": {},
   "outputs": [
    {
     "name": "stdout",
     "output_type": "stream",
     "text": [
      "True\n"
     ]
    }
   ],
   "source": [
    "print('__next__' in dir(e))"
   ]
  },
  {
   "cell_type": "code",
   "execution_count": 18,
   "id": "26f93c06-71d4-442d-9315-09967cc1653e",
   "metadata": {},
   "outputs": [
    {
     "data": {
      "text/plain": [
       "[(0, 'P'),\n",
       " (1, 'y'),\n",
       " (2, 't'),\n",
       " (3, 'h'),\n",
       " (4, 'o'),\n",
       " (5, 'n'),\n",
       " (6, ' '),\n",
       " (7, 'R'),\n",
       " (8, 'o'),\n",
       " (9, 'c'),\n",
       " (10, 'k'),\n",
       " (11, 's'),\n",
       " (12, '!')]"
      ]
     },
     "execution_count": 18,
     "metadata": {},
     "output_type": "execute_result"
    }
   ],
   "source": [
    "list(e)"
   ]
  },
  {
   "cell_type": "code",
   "execution_count": 20,
   "id": "b72fe3cb-2ac7-49e7-9734-b30bc5422375",
   "metadata": {},
   "outputs": [
    {
     "data": {
      "text/plain": [
       "[]"
      ]
     },
     "execution_count": 20,
     "metadata": {},
     "output_type": "execute_result"
    }
   ],
   "source": [
    "list(e)  # exhausted"
   ]
  },
  {
   "cell_type": "code",
   "execution_count": 21,
   "id": "acea3940-1f2d-4fbe-a1e0-695ea048815e",
   "metadata": {},
   "outputs": [
    {
     "data": {
      "text/plain": [
       "dict_keys(['a', 'b'])"
      ]
     },
     "execution_count": 21,
     "metadata": {},
     "output_type": "execute_result"
    }
   ],
   "source": [
    "d = {'a': 1, 'b': 2}\n",
    "keys = d.keys()\n",
    "keys"
   ]
  },
  {
   "cell_type": "code",
   "execution_count": 22,
   "id": "baaf23de-cc82-473c-b3ad-dfccf81f5488",
   "metadata": {},
   "outputs": [
    {
     "data": {
      "text/plain": [
       "False"
      ]
     },
     "execution_count": 22,
     "metadata": {},
     "output_type": "execute_result"
    }
   ],
   "source": [
    "iter(keys) is keys  # if iter(keys) were keys (the same object), then keys would be an iterator, not an iterable"
   ]
  },
  {
   "cell_type": "code",
   "execution_count": 23,
   "id": "23f34172-b0af-44a0-861d-393c8766ce26",
   "metadata": {},
   "outputs": [
    {
     "name": "stdout",
     "output_type": "stream",
     "text": [
      "True\n",
      "False\n"
     ]
    }
   ],
   "source": [
    "# we can check if an object is an iterable by checking if it has methods __iter__ and __next__\n",
    "print('__iter__' in dir(keys))\n",
    "print('__next__' in dir(keys))"
   ]
  },
  {
   "cell_type": "markdown",
   "id": "478dc9fd-1416-4a3a-a2f3-bacad206021a",
   "metadata": {},
   "source": [
    "## Sorting Iterables"
   ]
  },
  {
   "cell_type": "markdown",
   "id": "3fe0e4f7-6465-4038-844a-3cf871d31267",
   "metadata": {},
   "source": [
    "sorted() function can take any iterable as an argument."
   ]
  },
  {
   "cell_type": "code",
   "execution_count": 24,
   "id": "0f8d00a7-d9ba-48eb-8c30-e2d8a01a2690",
   "metadata": {},
   "outputs": [],
   "source": [
    "import random"
   ]
  },
  {
   "cell_type": "code",
   "execution_count": 25,
   "id": "82d7460c-9e1a-4024-b946-c2ea4416e146",
   "metadata": {},
   "outputs": [],
   "source": [
    "random.seed(0)"
   ]
  },
  {
   "cell_type": "code",
   "execution_count": 32,
   "id": "b1e152a6-a632-4b0b-9165-56b99bd0ebfb",
   "metadata": {},
   "outputs": [],
   "source": [
    "class RandomInts:\n",
    "    def __init__(self, length, *, seed=0, lower=0, upper=10):\n",
    "        self.length = length\n",
    "        self.seed = seed\n",
    "        self.lower = lower\n",
    "        self.upper = upper\n",
    "\n",
    "    def __len__(self):\n",
    "        return self.length\n",
    "\n",
    "    def __iter__(self):\n",
    "        return self.RandomIterator(self.length, seed=self.seed, lower=self.lower, upper=self.upper)\n",
    "\n",
    "    class RandomIterator:\n",
    "        def __init__(self, length, *, seed, lower, upper):\n",
    "            self.length = length\n",
    "            self.lower = lower\n",
    "            self.upper = upper\n",
    "            self.num_requests = 0\n",
    "            random.seed(seed)\n",
    "\n",
    "        def __iter__(self):\n",
    "            return self\n",
    "\n",
    "        def __next__(self):\n",
    "            if self.num_requests >= self.length:\n",
    "                raise StopIteration\n",
    "            else:\n",
    "                result = random.randint(self.lower, self.upper)\n",
    "                self.num_requests += 1\n",
    "                return result\n"
   ]
  },
  {
   "cell_type": "code",
   "execution_count": 27,
   "id": "9b5ed784-aa75-4edf-b094-5aa835418b8d",
   "metadata": {},
   "outputs": [
    {
     "name": "stdout",
     "output_type": "stream",
     "text": [
      "6\n",
      "6\n",
      "0\n",
      "4\n",
      "8\n",
      "7\n",
      "6\n",
      "4\n",
      "7\n",
      "5\n"
     ]
    }
   ],
   "source": [
    "randoms = RandomInts(10)\n",
    "for num in randoms:\n",
    "    print(num)"
   ]
  },
  {
   "cell_type": "code",
   "execution_count": 28,
   "id": "8f3c2582-7f3d-4532-8419-5014a35d42f4",
   "metadata": {},
   "outputs": [
    {
     "name": "stdout",
     "output_type": "stream",
     "text": [
      "6\n",
      "6\n",
      "0\n",
      "4\n",
      "8\n",
      "7\n",
      "6\n",
      "4\n",
      "7\n",
      "5\n"
     ]
    }
   ],
   "source": [
    "for num in randoms:\n",
    "    print(num)"
   ]
  },
  {
   "cell_type": "code",
   "execution_count": 29,
   "id": "2ab9153f-940d-4c9f-bba0-e52a55744eeb",
   "metadata": {},
   "outputs": [
    {
     "name": "stdout",
     "output_type": "stream",
     "text": [
      "0\n",
      "10\n",
      "4\n",
      "5\n",
      "4\n",
      "5\n",
      "2\n",
      "9\n",
      "2\n",
      "3\n"
     ]
    }
   ],
   "source": [
    "randoms = RandomInts(10, seed=None)\n",
    "for num in randoms:\n",
    "    print(num)"
   ]
  },
  {
   "cell_type": "code",
   "execution_count": 30,
   "id": "254b1ff1-ddfd-4009-bbe7-24ae12cc115b",
   "metadata": {},
   "outputs": [
    {
     "name": "stdout",
     "output_type": "stream",
     "text": [
      "0\n",
      "5\n",
      "5\n",
      "7\n",
      "4\n",
      "4\n",
      "7\n",
      "1\n",
      "8\n",
      "6\n"
     ]
    }
   ],
   "source": [
    "randoms = RandomInts(10, seed=None)\n",
    "for num in randoms:\n",
    "    print(num)"
   ]
  },
  {
   "cell_type": "code",
   "execution_count": 33,
   "id": "84e0389d-2505-49e7-a2b3-3557881f76bc",
   "metadata": {},
   "outputs": [
    {
     "data": {
      "text/plain": [
       "[6, 6, 0, 4, 8, 7, 6, 4, 7, 5]"
      ]
     },
     "execution_count": 33,
     "metadata": {},
     "output_type": "execute_result"
    }
   ],
   "source": [
    "randoms = RandomInts(10)\n",
    "list(randoms)"
   ]
  },
  {
   "cell_type": "code",
   "execution_count": 35,
   "id": "2255b584-1a43-44f9-a792-6d34620298c9",
   "metadata": {},
   "outputs": [
    {
     "data": {
      "text/plain": [
       "[8, 7, 7, 6, 6, 6, 5, 4, 4, 0]"
      ]
     },
     "execution_count": 35,
     "metadata": {},
     "output_type": "execute_result"
    }
   ],
   "source": [
    "sorted(randoms, reverse=True)"
   ]
  },
  {
   "cell_type": "markdown",
   "id": "5e4ef879-bee0-48b4-9fcb-8c64460dd8e6",
   "metadata": {},
   "source": [
    "## The iter() function"
   ]
  },
  {
   "cell_type": "markdown",
   "id": "ed95be9c-7e8f-4815-9b26-c1a49ea0f2b7",
   "metadata": {},
   "source": [
    "When Python performs an iteration over an iterable the very first thing it does is call the iter() function on the object we want to iterate. If the object implements the \\_\\_iter\\_\\_ method, that method is called and Python uses the <b>returned iterator</b>."
   ]
  },
  {
   "cell_type": "markdown",
   "id": "7df1662a-706e-4cb5-8c31-859ef44b237f",
   "metadata": {},
   "source": [
    "But what happens if the object does not implement the \\_\\_iter\\_\\_ method?"
   ]
  },
  {
   "cell_type": "markdown",
   "id": "e94a0d8a-91a9-486f-b273-8f7c9e0e6103",
   "metadata": {},
   "source": [
    "Python do not always calls the \\_\\_iter\\_\\_ method, but it calls the <b>iter()</b> function. <br>\n",
    "In fact if obj is an object that only implements \\_\\_getitem\\_\\_, iter(obj) returns an iterator type object!"
   ]
  },
  {
   "cell_type": "markdown",
   "id": "a190f2c7-093f-4a19-81f5-6cbb5cddcbcb",
   "metadata": {},
   "source": [
    "So when iter(obj) is called:\n",
    "1. Python first looks for an __iter__method\n",
    "    - if it's there, use it\n",
    "    - it it's not, look for a \\_\\_getitem\\_\\_ method:\n",
    "        - if it's there create an iterator object and return that\n",
    "        - if it's not there, raise a TypeError exception (not iterable)"
   ]
  },
  {
   "cell_type": "markdown",
   "id": "2eff71d2-a46b-40cc-8672-f1dd0f6cd291",
   "metadata": {},
   "source": [
    "The easiest approach to test if an object is iterable is to try to use iter() function on that object. If it raises TypeError then the object is not an iterable."
   ]
  },
  {
   "cell_type": "code",
   "execution_count": 37,
   "id": "ad2aa85d-8211-4524-b30b-19fbb0a91558",
   "metadata": {},
   "outputs": [
    {
     "data": {
      "text/plain": [
       "list_iterator"
      ]
     },
     "execution_count": 37,
     "metadata": {},
     "output_type": "execute_result"
    }
   ],
   "source": [
    "l = [1, 2, 3, 4]\n",
    "l_iter = iter(l)\n",
    "type(l_iter)"
   ]
  },
  {
   "cell_type": "code",
   "execution_count": 38,
   "id": "2c89604d-e3b5-4672-bf39-31608e83ace7",
   "metadata": {},
   "outputs": [
    {
     "data": {
      "text/plain": [
       "1"
      ]
     },
     "execution_count": 38,
     "metadata": {},
     "output_type": "execute_result"
    }
   ],
   "source": [
    "next(l_iter)"
   ]
  },
  {
   "cell_type": "code",
   "execution_count": 40,
   "id": "94c4a6c0-a663-42b6-a4a3-0bf4b8b77f0e",
   "metadata": {},
   "outputs": [],
   "source": [
    "class Squares:\n",
    "    def __init__(self, n):\n",
    "        self._n = n\n",
    "\n",
    "    def __len__(self):\n",
    "        return self._n\n",
    "\n",
    "    def __getitem__(self, i):\n",
    "        if i>= self._n:\n",
    "            raise IndexError\n",
    "        else:\n",
    "            return i ** 2\n",
    "            "
   ]
  },
  {
   "cell_type": "code",
   "execution_count": 41,
   "id": "1342fb65-a19c-445e-b6a8-bb8bc04ea1be",
   "metadata": {},
   "outputs": [],
   "source": [
    "sq = Squares(5)"
   ]
  },
  {
   "cell_type": "code",
   "execution_count": 42,
   "id": "3a55d1a6-3043-4efb-b5e8-0c5672acd66a",
   "metadata": {},
   "outputs": [
    {
     "name": "stdout",
     "output_type": "stream",
     "text": [
      "0\n",
      "1\n",
      "4\n",
      "9\n",
      "16\n"
     ]
    }
   ],
   "source": [
    "for i in sq:\n",
    "    print(i)"
   ]
  },
  {
   "cell_type": "code",
   "execution_count": 43,
   "id": "dfd6caa1-60cd-4643-94ab-30e6254e275e",
   "metadata": {},
   "outputs": [
    {
     "data": {
      "text/plain": [
       "iterator"
      ]
     },
     "execution_count": 43,
     "metadata": {},
     "output_type": "execute_result"
    }
   ],
   "source": [
    "sq_iter = iter(sq)\n",
    "type(sq_iter)"
   ]
  },
  {
   "cell_type": "code",
   "execution_count": 44,
   "id": "f6d44ab8-19c4-41ca-a282-e25ff0988084",
   "metadata": {},
   "outputs": [
    {
     "data": {
      "text/plain": [
       "True"
      ]
     },
     "execution_count": 44,
     "metadata": {},
     "output_type": "execute_result"
    }
   ],
   "source": [
    "'__next__' in dir(sq_iter)"
   ]
  },
  {
   "cell_type": "code",
   "execution_count": 45,
   "id": "c6c670bf-fdb5-4614-83c9-c0c889ce0be9",
   "metadata": {},
   "outputs": [
    {
     "name": "stdout",
     "output_type": "stream",
     "text": [
      "0\n",
      "1\n"
     ]
    }
   ],
   "source": [
    "print(next(sq_iter))\n",
    "print(next(sq_iter))"
   ]
  },
  {
   "cell_type": "code",
   "execution_count": 46,
   "id": "dca1cae0-2e76-4150-a24f-aa1f9c0ed339",
   "metadata": {},
   "outputs": [],
   "source": [
    "class Squares_2:\n",
    "    def __init__(self, n):\n",
    "        self._n = n\n",
    "\n",
    "    def __len__(self):\n",
    "        return self._n\n",
    "        "
   ]
  },
  {
   "cell_type": "code",
   "execution_count": 47,
   "id": "52437a9f-a6b5-4dc1-bbc7-ede3b4f8ac27",
   "metadata": {},
   "outputs": [
    {
     "ename": "TypeError",
     "evalue": "'Squares_2' object is not iterable",
     "output_type": "error",
     "traceback": [
      "\u001b[1;31m---------------------------------------------------------------------------\u001b[0m",
      "\u001b[1;31mTypeError\u001b[0m                                 Traceback (most recent call last)",
      "Cell \u001b[1;32mIn[47], line 1\u001b[0m\n\u001b[1;32m----> 1\u001b[0m sq_iter \u001b[38;5;241m=\u001b[39m \u001b[38;5;28;43miter\u001b[39;49m\u001b[43m(\u001b[49m\u001b[43mSquares_2\u001b[49m\u001b[43m(\u001b[49m\u001b[38;5;241;43m5\u001b[39;49m\u001b[43m)\u001b[49m\u001b[43m)\u001b[49m\n",
      "\u001b[1;31mTypeError\u001b[0m: 'Squares_2' object is not iterable"
     ]
    }
   ],
   "source": [
    "sq_iter = iter(Squares_2(5))"
   ]
  },
  {
   "cell_type": "code",
   "execution_count": 53,
   "id": "3f957334-8430-4a2e-93f8-1325f78f9845",
   "metadata": {},
   "outputs": [],
   "source": [
    "class SequenceIterator:\n",
    "    def __init__(self, seq):\n",
    "        self._seq = seq\n",
    "        self._i = 0\n",
    "\n",
    "    def __iter__(self):\n",
    "        return self\n",
    "\n",
    "    def __next__(self):\n",
    "        if self._i >= len(self._seq):\n",
    "            raise StopIteration\n",
    "        else:\n",
    "            result = self._seq[self._i]\n",
    "            self._i += 1\n",
    "            return result\n",
    "            "
   ]
  },
  {
   "cell_type": "code",
   "execution_count": 54,
   "id": "e82e8946-f2d5-4d24-85a4-6a4551131560",
   "metadata": {},
   "outputs": [],
   "source": [
    "sq = Squares(5)\n",
    "sq_iterator = SquaresIterator(sq)"
   ]
  },
  {
   "cell_type": "code",
   "execution_count": 55,
   "id": "cdaa1cd5-ce50-4f0e-ab5f-d5dbeb5bbee0",
   "metadata": {},
   "outputs": [
    {
     "name": "stdout",
     "output_type": "stream",
     "text": [
      "0\n",
      "1\n",
      "4\n",
      "9\n",
      "16\n"
     ]
    }
   ],
   "source": [
    "for item in sq_iterator:\n",
    "    print(item)"
   ]
  },
  {
   "cell_type": "code",
   "execution_count": 56,
   "id": "e6af1b6e-c1e7-4320-b9fe-556033d07965",
   "metadata": {},
   "outputs": [],
   "source": [
    "for item in sq_iterator:  # exhausted\n",
    "    print(item)"
   ]
  },
  {
   "cell_type": "code",
   "execution_count": 57,
   "id": "87e12d54-d595-4a6f-9f97-4f53f43e5736",
   "metadata": {},
   "outputs": [],
   "source": [
    "class SimpleIter:\n",
    "    def __init__(self):\n",
    "        pass\n",
    "\n",
    "    def __iter__(self):\n",
    "        return 'Nope'\n",
    "        "
   ]
  },
  {
   "cell_type": "code",
   "execution_count": 58,
   "id": "9d6d32d2-be1e-45c2-8ea9-7187daa3583f",
   "metadata": {},
   "outputs": [],
   "source": [
    "s = SimpleIter()"
   ]
  },
  {
   "cell_type": "code",
   "execution_count": 59,
   "id": "db7a2061-d7aa-40f7-bb4b-c3e51bc9561a",
   "metadata": {},
   "outputs": [
    {
     "data": {
      "text/plain": [
       "True"
      ]
     },
     "execution_count": 59,
     "metadata": {},
     "output_type": "execute_result"
    }
   ],
   "source": [
    "'__iter__' in dir(s)"
   ]
  },
  {
   "cell_type": "code",
   "execution_count": 61,
   "id": "28f8bde2-d16c-4cad-b84a-3e5a9381a6a8",
   "metadata": {},
   "outputs": [
    {
     "ename": "TypeError",
     "evalue": "iter() returned non-iterator of type 'str'",
     "output_type": "error",
     "traceback": [
      "\u001b[1;31m---------------------------------------------------------------------------\u001b[0m",
      "\u001b[1;31mTypeError\u001b[0m                                 Traceback (most recent call last)",
      "Cell \u001b[1;32mIn[61], line 1\u001b[0m\n\u001b[1;32m----> 1\u001b[0m \u001b[38;5;28;43miter\u001b[39;49m\u001b[43m(\u001b[49m\u001b[43ms\u001b[49m\u001b[43m)\u001b[49m\n",
      "\u001b[1;31mTypeError\u001b[0m: iter() returned non-iterator of type 'str'"
     ]
    }
   ],
   "source": [
    "iter(s)"
   ]
  },
  {
   "cell_type": "code",
   "execution_count": 62,
   "id": "9422c8e4-fe7a-4f78-814e-ab8be24355f5",
   "metadata": {},
   "outputs": [],
   "source": [
    "def is_iterable(obj):\n",
    "    try:\n",
    "        iter(obj)\n",
    "        return True\n",
    "    except TypeError:\n",
    "        return False\n",
    "        "
   ]
  },
  {
   "cell_type": "code",
   "execution_count": 63,
   "id": "71e2e467-e47d-4aca-921a-b1b01876b21e",
   "metadata": {},
   "outputs": [
    {
     "data": {
      "text/plain": [
       "False"
      ]
     },
     "execution_count": 63,
     "metadata": {},
     "output_type": "execute_result"
    }
   ],
   "source": [
    "is_iterable(s)"
   ]
  },
  {
   "cell_type": "code",
   "execution_count": 64,
   "id": "94237eee-9ef4-43b4-8756-0dad34e4bf5b",
   "metadata": {},
   "outputs": [
    {
     "data": {
      "text/plain": [
       "True"
      ]
     },
     "execution_count": 64,
     "metadata": {},
     "output_type": "execute_result"
    }
   ],
   "source": [
    "is_iterable(Squares(5))"
   ]
  },
  {
   "cell_type": "markdown",
   "id": "33f3b0e0-0436-47b0-bcb5-4d3812e6138a",
   "metadata": {},
   "source": [
    "## Iterating Callables\n",
    "Iterating over the return values of a callable."
   ]
  },
  {
   "cell_type": "markdown",
   "id": "6610351a-48d6-47d0-87dc-541dc6468bda",
   "metadata": {},
   "source": [
    "Consider a callable that provides a countdown from start value: <br>\n",
    "countdown() -> 3 <br>\n",
    "countdown() -> 2 <br>\n",
    "countdown() -> 1 <br>\n",
    "countdown() -> 0 <br>\n",
    "We wan to run a loop that will call countdown() until 0 is reached."
   ]
  },
  {
   "cell_type": "markdown",
   "id": "1261586f-87b6-4865-bea7-5fc87375ab39",
   "metadata": {},
   "source": [
    "We could take a different approach, using iterators, and we can also make it quite generic. <br>\n",
    "Make an iterator that knows two things:\n",
    "- the callable that needs to be called,\n",
    "- a value (the sentinel) that will result in a StopIteration if the callable returns that value.\n",
    "<br><br>\n",
    "\n",
    "The iterator would then be implemented as follows: <br>\n",
    "when next() is called:\n",
    "- call the callable and get the result,\n",
    "- if the result is equal to the snetinel -> StopIteration and \"exhaust\" the iterator,\n",
    "- otherwise return the result."
   ]
  },
  {
   "cell_type": "markdown",
   "id": "bad6a5c9-d363-4ce8-adc2-8abd74fba0b4",
   "metadata": {},
   "source": [
    "iter() can generate an iterator for us automatically."
   ]
  },
  {
   "cell_type": "code",
   "execution_count": 2,
   "id": "07985fd2-e00b-4968-a191-2f7961ecaeb8",
   "metadata": {},
   "outputs": [
    {
     "name": "stdout",
     "output_type": "stream",
     "text": [
      "Help on built-in function iter in module builtins:\n",
      "\n",
      "iter(...)\n",
      "    iter(iterable) -> iterator\n",
      "    iter(callable, sentinel) -> iterator\n",
      "    \n",
      "    Get an iterator from an object.  In the first form, the argument must\n",
      "    supply its own iterator, or be a sequence.\n",
      "    In the second form, the callable is called until it returns the sentinel.\n",
      "\n"
     ]
    }
   ],
   "source": [
    "help(iter)"
   ]
  },
  {
   "cell_type": "markdown",
   "id": "be27f5b4-6334-48aa-b091-3b72f419c2c1",
   "metadata": {},
   "source": [
    "The second form of iter will return an iterator that will:\n",
    "- call the callable when next() is called,\n",
    "- and either raise StopIteration if the result is equal to the sentinel value,\n",
    "- or return the result otherwise."
   ]
  },
  {
   "cell_type": "code",
   "execution_count": 9,
   "id": "84ca8d37-080f-4cdf-9c13-d58421acd4cc",
   "metadata": {},
   "outputs": [
    {
     "name": "stdout",
     "output_type": "stream",
     "text": [
      "3\n",
      "2\n",
      "5\n",
      "0\n"
     ]
    }
   ],
   "source": [
    "import random\n",
    "\n",
    "# lambda function is our callable, and 8 is our sentinel value\n",
    "# if 8 is returned by the lambda function, then the iteration stops\n",
    "random_iter = iter(lambda: random.randint(0, 10), 8)\n",
    "for num in random_iter:\n",
    "    print(num)"
   ]
  },
  {
   "cell_type": "code",
   "execution_count": 15,
   "id": "fb3d6804-4f70-48f4-ba4b-f42b8b7f3ef0",
   "metadata": {},
   "outputs": [],
   "source": [
    "def counter(n):\n",
    "    def dec():\n",
    "        nonlocal n\n",
    "        n -= 1\n",
    "        return n\n",
    "    return dec\n",
    "    "
   ]
  },
  {
   "cell_type": "code",
   "execution_count": 16,
   "id": "ad452797-67a2-4574-8573-dceb8ad20cc7",
   "metadata": {},
   "outputs": [
    {
     "name": "stdout",
     "output_type": "stream",
     "text": [
      "9\n",
      "8\n",
      "7\n",
      "6\n",
      "5\n",
      "4\n",
      "3\n",
      "2\n",
      "1\n",
      "0\n"
     ]
    }
   ],
   "source": [
    "takeoff = counter(10)\n",
    "count_iter = iter(takeoff, -1)\n",
    "for num in count_iter:\n",
    "    print(num)"
   ]
  },
  {
   "cell_type": "markdown",
   "id": "7a829584-a0b9-4dcb-a7ec-d4e398a01a7a",
   "metadata": {},
   "source": [
    "## Delegating Iterators\n",
    "Iterator delegation is a programming pattern where a class or function forwards iteration tasks to another iterable or iterator rather than implementing the iteration logic itself, e.g. using a list iterator in the \\_\\_iter\\_\\_ method instead of implementing the iterator for the custom class."
   ]
  },
  {
   "cell_type": "code",
   "execution_count": 17,
   "id": "a25f4e9f-c813-4e0b-bb33-aa6474e6f656",
   "metadata": {},
   "outputs": [],
   "source": [
    "from collections import namedtuple\n",
    "\n",
    "Person = namedtuple('Person', 'first last')"
   ]
  },
  {
   "cell_type": "code",
   "execution_count": 18,
   "id": "545b42f7-9bac-4d30-97ff-3113a7b8f2fa",
   "metadata": {},
   "outputs": [],
   "source": [
    "class PersonNames:\n",
    "    def __init__(self, persons):\n",
    "        try: \n",
    "            self._persons = [person.first.capitalize() + ' ' + person.last.capitalize() for person in persons]\n",
    "        except (TypeError, AttributeError):\n",
    "            self._persons = []\n",
    "            "
   ]
  },
  {
   "cell_type": "code",
   "execution_count": 19,
   "id": "090f503e-a5b8-49f7-96e7-a77b240aa824",
   "metadata": {},
   "outputs": [],
   "source": [
    "persons = [Person('michaeL', 'paLin'), Person('eric', 'idle'), Person('John', 'cLeese')]"
   ]
  },
  {
   "cell_type": "code",
   "execution_count": 20,
   "id": "b7c95846-cc79-464d-b564-7680b396adb7",
   "metadata": {},
   "outputs": [],
   "source": [
    "person_names = PersonNames(persons)"
   ]
  },
  {
   "cell_type": "code",
   "execution_count": 22,
   "id": "442b70b0-bbfa-43fa-8153-994aca1b77b7",
   "metadata": {},
   "outputs": [
    {
     "data": {
      "text/plain": [
       "['Michael Palin', 'Eric Idle', 'John Cleese']"
      ]
     },
     "execution_count": 22,
     "metadata": {},
     "output_type": "execute_result"
    }
   ],
   "source": [
    "person_names._persons"
   ]
  },
  {
   "cell_type": "code",
   "execution_count": 23,
   "id": "65d98cdc-395a-4c3c-88d4-4f7f5a73ea52",
   "metadata": {},
   "outputs": [
    {
     "ename": "TypeError",
     "evalue": "'PersonNames' object is not iterable",
     "output_type": "error",
     "traceback": [
      "\u001b[1;31m---------------------------------------------------------------------------\u001b[0m",
      "\u001b[1;31mTypeError\u001b[0m                                 Traceback (most recent call last)",
      "Cell \u001b[1;32mIn[23], line 1\u001b[0m\n\u001b[1;32m----> 1\u001b[0m \u001b[38;5;28;43;01mfor\u001b[39;49;00m\u001b[43m \u001b[49m\u001b[43mname\u001b[49m\u001b[43m \u001b[49m\u001b[38;5;129;43;01min\u001b[39;49;00m\u001b[43m \u001b[49m\u001b[43mperson_names\u001b[49m\u001b[43m:\u001b[49m\n\u001b[0;32m      2\u001b[0m \u001b[43m    \u001b[49m\u001b[38;5;28;43mprint\u001b[39;49m\u001b[43m(\u001b[49m\u001b[43mname\u001b[49m\u001b[43m)\u001b[49m\n",
      "\u001b[1;31mTypeError\u001b[0m: 'PersonNames' object is not iterable"
     ]
    }
   ],
   "source": [
    "for name in person_names: # we cannot iterate PersonNames object\n",
    "    print(name)"
   ]
  },
  {
   "cell_type": "code",
   "execution_count": 24,
   "id": "91bd76dd-7238-4c53-b5df-98ba82ea441f",
   "metadata": {},
   "outputs": [],
   "source": [
    "class PersonNames:\n",
    "    def __init__(self, persons):\n",
    "        try: \n",
    "            self._persons = [person.first.capitalize() + ' ' + person.last.capitalize() for person in persons]\n",
    "        except (TypeError, AttributeError):\n",
    "            self._persons = []\n",
    "\n",
    "    def __iter__(self):\n",
    "        return iter(self._persons)  # delegating to the list iterator\n"
   ]
  },
  {
   "cell_type": "code",
   "execution_count": 25,
   "id": "9429834d-bd42-488f-886c-416e6803d833",
   "metadata": {},
   "outputs": [
    {
     "data": {
      "text/plain": [
       "['Michael Palin', 'Eric Idle', 'John Cleese']"
      ]
     },
     "execution_count": 25,
     "metadata": {},
     "output_type": "execute_result"
    }
   ],
   "source": [
    "person_names = PersonNames(persons)\n",
    "person_names._persons"
   ]
  },
  {
   "cell_type": "code",
   "execution_count": 26,
   "id": "77ccf5e2-d431-4856-9e68-71f77aab2cad",
   "metadata": {},
   "outputs": [
    {
     "name": "stdout",
     "output_type": "stream",
     "text": [
      "Michael Palin\n",
      "Eric Idle\n",
      "John Cleese\n"
     ]
    }
   ],
   "source": [
    "for name in person_names: # now we can\n",
    "    print(name)"
   ]
  },
  {
   "cell_type": "markdown",
   "id": "9aff0f5b-69ef-48c0-80aa-87066cebd37c",
   "metadata": {},
   "source": [
    "## Reversed Iteration"
   ]
  },
  {
   "cell_type": "markdown",
   "id": "671b07dc-456a-4874-ae55-2fa628f43b9b",
   "metadata": {},
   "source": [
    "If we have a sequence type, then iterating over the sequence in reverse orde is quite simple:\n",
    "- for item in seq\\[::-1]: -> this works, but it wasteful because it makes a copy of the sequence,\n",
    "- for i in range(len(seq) - 1, -1, -1) -> more efficient, but the syntax is messy.\n",
    "- for item in reversed(seq): -> this is cleaner and just as efficient, because it creates an <b>iterator</b> that will iterate backwards over the sequence = it does not copy the data, but both \\_\\_getitem\\_\\_ and \\_\\_len\\_\\_ must be implemented. <br><br>\n",
    "We can override how reversed works by implementing the \\_\\_reversed\\_\\_ special method."
   ]
  },
  {
   "cell_type": "markdown",
   "id": "94244951-0221-47a3-adcf-af572af15f6a",
   "metadata": {},
   "source": [
    "Unfortunately, reversed() will not work with custom iterables without a little bit of extra work. <br>\n",
    "When we call reversed() on a custom iterable, Python will look for and call the \\_\\_reversed\\_\\_ function. That function should <b>return an iterator</b> that will be used to perform the reversed iteration. So basically we have to implement a reverse iterator ourselves.<br>\n",
    "Just like the iter() method, when we call reversed() on an object:\n",
    "- it looks for and calls \\_\\_reversed\\_\\_ method,\n",
    "- if it's not there, uses \\_\\_getitem\\_\\_ and \\_\\_len\\_\\_ to create an iterator for us,\n",
    "- exception otherwise."
   ]
  },
  {
   "cell_type": "markdown",
   "id": "7e4e85ec-e21c-43f3-a95c-edc7192848e8",
   "metadata": {},
   "source": [
    "In our exercise, we assume that we have a deck of 52 sorted cards: 2 Spade .. Ace Spades, 2 Hearts ... Ace Hearts, 2 Diamonds ... Ace Diamonds, 2 Clubs ... Ace Clubs. <br> What's more we don't want to create a list containing all the pre-created cards, but use lazy evaluation instead."
   ]
  },
  {
   "cell_type": "code",
   "execution_count": 4,
   "id": "78fcc49d-4f96-41af-b640-9b810d289402",
   "metadata": {},
   "outputs": [
    {
     "data": {
      "text/plain": [
       "[2, 3, 4, 5, 6, 7, 8, 9, 10, 'J', 'Q', 'K', 'A']"
      ]
     },
     "execution_count": 4,
     "metadata": {},
     "output_type": "execute_result"
    }
   ],
   "source": [
    "SUITS = ['Spades', 'Hearts', 'Diamonds', 'Clubs']  # len(SUITS) = 4\n",
    "RANKS = [*range(2, 11), 'J', 'Q', 'K', 'A']  # len\n",
    "RANKS"
   ]
  },
  {
   "cell_type": "code",
   "execution_count": 6,
   "id": "b31da8d4-b0a3-418e-804b-3bc387263269",
   "metadata": {},
   "outputs": [],
   "source": [
    "from collections import namedtuple\n",
    "\n",
    "Card = namedtuple('Card', 'rank suit')"
   ]
  },
  {
   "cell_type": "code",
   "execution_count": 11,
   "id": "8039893f-881e-4265-a5e2-37a68d584424",
   "metadata": {},
   "outputs": [],
   "source": [
    "class CardDeck:\n",
    "    def __init__(self):\n",
    "        self.length = len(SUITS) * len(RANKS)\n",
    "\n",
    "    def __len__(self):\n",
    "        return self.length\n",
    "\n",
    "    def __iter__(self):\n",
    "        return self.CardDeckIterator(self.length)\n",
    "\n",
    "    class CardDeckIterator:\n",
    "        def __init__(self, length):\n",
    "            self.length = length\n",
    "            self.i = 0\n",
    "\n",
    "        def __iter__(self):\n",
    "            return self\n",
    "\n",
    "        def __next__(self):\n",
    "            if self.i >= self.length:\n",
    "                raise StopIteration\n",
    "            else:\n",
    "                suit = SUITS[self.i // len(RANKS)]\n",
    "                rank = RANKS[self.i % len(RANKS)]\n",
    "                self.i += 1\n",
    "                return Card(rank, suit)\n",
    "                "
   ]
  },
  {
   "cell_type": "code",
   "execution_count": 12,
   "id": "3747d1d9-f773-469c-a32e-ba2cdfbc0c39",
   "metadata": {},
   "outputs": [
    {
     "data": {
      "text/plain": [
       "[Card(rank=2, suit='Spades'),\n",
       " Card(rank=3, suit='Spades'),\n",
       " Card(rank=4, suit='Spades'),\n",
       " Card(rank=5, suit='Spades'),\n",
       " Card(rank=6, suit='Spades'),\n",
       " Card(rank=7, suit='Spades'),\n",
       " Card(rank=8, suit='Spades'),\n",
       " Card(rank=9, suit='Spades'),\n",
       " Card(rank=10, suit='Spades'),\n",
       " Card(rank='J', suit='Spades'),\n",
       " Card(rank='Q', suit='Spades'),\n",
       " Card(rank='K', suit='Spades'),\n",
       " Card(rank='A', suit='Spades'),\n",
       " Card(rank=2, suit='Hearts'),\n",
       " Card(rank=3, suit='Hearts'),\n",
       " Card(rank=4, suit='Hearts'),\n",
       " Card(rank=5, suit='Hearts'),\n",
       " Card(rank=6, suit='Hearts'),\n",
       " Card(rank=7, suit='Hearts'),\n",
       " Card(rank=8, suit='Hearts'),\n",
       " Card(rank=9, suit='Hearts'),\n",
       " Card(rank=10, suit='Hearts'),\n",
       " Card(rank='J', suit='Hearts'),\n",
       " Card(rank='Q', suit='Hearts'),\n",
       " Card(rank='K', suit='Hearts'),\n",
       " Card(rank='A', suit='Hearts'),\n",
       " Card(rank=2, suit='Diamonds'),\n",
       " Card(rank=3, suit='Diamonds'),\n",
       " Card(rank=4, suit='Diamonds'),\n",
       " Card(rank=5, suit='Diamonds'),\n",
       " Card(rank=6, suit='Diamonds'),\n",
       " Card(rank=7, suit='Diamonds'),\n",
       " Card(rank=8, suit='Diamonds'),\n",
       " Card(rank=9, suit='Diamonds'),\n",
       " Card(rank=10, suit='Diamonds'),\n",
       " Card(rank='J', suit='Diamonds'),\n",
       " Card(rank='Q', suit='Diamonds'),\n",
       " Card(rank='K', suit='Diamonds'),\n",
       " Card(rank='A', suit='Diamonds'),\n",
       " Card(rank=2, suit='Clubs'),\n",
       " Card(rank=3, suit='Clubs'),\n",
       " Card(rank=4, suit='Clubs'),\n",
       " Card(rank=5, suit='Clubs'),\n",
       " Card(rank=6, suit='Clubs'),\n",
       " Card(rank=7, suit='Clubs'),\n",
       " Card(rank=8, suit='Clubs'),\n",
       " Card(rank=9, suit='Clubs'),\n",
       " Card(rank=10, suit='Clubs'),\n",
       " Card(rank='J', suit='Clubs'),\n",
       " Card(rank='Q', suit='Clubs'),\n",
       " Card(rank='K', suit='Clubs'),\n",
       " Card(rank='A', suit='Clubs')]"
      ]
     },
     "execution_count": 12,
     "metadata": {},
     "output_type": "execute_result"
    }
   ],
   "source": [
    "deck = list(CardDeck())\n",
    "deck"
   ]
  },
  {
   "cell_type": "code",
   "execution_count": 13,
   "id": "85168beb-10c9-495c-98e9-7ee0d87fb9bb",
   "metadata": {},
   "outputs": [
    {
     "ename": "TypeError",
     "evalue": "'CardDeck' object is not reversible",
     "output_type": "error",
     "traceback": [
      "\u001b[1;31m---------------------------------------------------------------------------\u001b[0m",
      "\u001b[1;31mTypeError\u001b[0m                                 Traceback (most recent call last)",
      "Cell \u001b[1;32mIn[13], line 1\u001b[0m\n\u001b[1;32m----> 1\u001b[0m reversed_deck \u001b[38;5;241m=\u001b[39m \u001b[38;5;28;43mreversed\u001b[39;49m\u001b[43m(\u001b[49m\u001b[43mCardDeck\u001b[49m\u001b[43m(\u001b[49m\u001b[43m)\u001b[49m\u001b[43m)\u001b[49m\n",
      "\u001b[1;31mTypeError\u001b[0m: 'CardDeck' object is not reversible"
     ]
    }
   ],
   "source": [
    "reversed_deck = reversed(CardDeck())  # there is no __reversed__ method implemented in CardDeck"
   ]
  },
  {
   "cell_type": "code",
   "execution_count": 14,
   "id": "7211ba40-4832-4724-a475-972778354aaf",
   "metadata": {},
   "outputs": [],
   "source": [
    "class CardDeck:\n",
    "    def __init__(self):\n",
    "        self.length = len(SUITS) * len(RANKS)\n",
    "\n",
    "    def __len__(self):\n",
    "        return self.length\n",
    "\n",
    "    def __iter__(self):\n",
    "        return self.CardDeckIterator(self.length)\n",
    "\n",
    "    def __reversed__(self):\n",
    "        return self.CardDeckIterator(self.length, reverse=True)\n",
    "        \n",
    "    class CardDeckIterator:\n",
    "        def __init__(self, length, reverse=False):\n",
    "            self.length = length\n",
    "            self.reverse = True\n",
    "            self.i = 0\n",
    "\n",
    "        def __iter__(self):\n",
    "            return self\n",
    "\n",
    "        def __next__(self):\n",
    "            if self.i >= self.length:\n",
    "                raise StopIteration\n",
    "            else:\n",
    "                if self.reverse:\n",
    "                    index = (self.length - 1 - self.i) \n",
    "                else:\n",
    "                    index = self.i\n",
    "                suit = SUITS[index // len(RANKS)]\n",
    "                rank = RANKS[index % len(RANKS)]\n",
    "                self.i += 1\n",
    "                return Card(rank, suit)\n",
    "                "
   ]
  },
  {
   "cell_type": "code",
   "execution_count": 15,
   "id": "a7b06986-500e-456c-a715-3b46b2713ecf",
   "metadata": {},
   "outputs": [],
   "source": [
    "deck = reversed(CardDeck())"
   ]
  },
  {
   "cell_type": "code",
   "execution_count": 16,
   "id": "b35820a3-8d7e-4a9e-a60c-45fa39c7a734",
   "metadata": {},
   "outputs": [
    {
     "data": {
      "text/plain": [
       "[Card(rank='A', suit='Clubs'),\n",
       " Card(rank='K', suit='Clubs'),\n",
       " Card(rank='Q', suit='Clubs'),\n",
       " Card(rank='J', suit='Clubs'),\n",
       " Card(rank=10, suit='Clubs'),\n",
       " Card(rank=9, suit='Clubs'),\n",
       " Card(rank=8, suit='Clubs'),\n",
       " Card(rank=7, suit='Clubs'),\n",
       " Card(rank=6, suit='Clubs'),\n",
       " Card(rank=5, suit='Clubs'),\n",
       " Card(rank=4, suit='Clubs'),\n",
       " Card(rank=3, suit='Clubs'),\n",
       " Card(rank=2, suit='Clubs'),\n",
       " Card(rank='A', suit='Diamonds'),\n",
       " Card(rank='K', suit='Diamonds'),\n",
       " Card(rank='Q', suit='Diamonds'),\n",
       " Card(rank='J', suit='Diamonds'),\n",
       " Card(rank=10, suit='Diamonds'),\n",
       " Card(rank=9, suit='Diamonds'),\n",
       " Card(rank=8, suit='Diamonds'),\n",
       " Card(rank=7, suit='Diamonds'),\n",
       " Card(rank=6, suit='Diamonds'),\n",
       " Card(rank=5, suit='Diamonds'),\n",
       " Card(rank=4, suit='Diamonds'),\n",
       " Card(rank=3, suit='Diamonds'),\n",
       " Card(rank=2, suit='Diamonds'),\n",
       " Card(rank='A', suit='Hearts'),\n",
       " Card(rank='K', suit='Hearts'),\n",
       " Card(rank='Q', suit='Hearts'),\n",
       " Card(rank='J', suit='Hearts'),\n",
       " Card(rank=10, suit='Hearts'),\n",
       " Card(rank=9, suit='Hearts'),\n",
       " Card(rank=8, suit='Hearts'),\n",
       " Card(rank=7, suit='Hearts'),\n",
       " Card(rank=6, suit='Hearts'),\n",
       " Card(rank=5, suit='Hearts'),\n",
       " Card(rank=4, suit='Hearts'),\n",
       " Card(rank=3, suit='Hearts'),\n",
       " Card(rank=2, suit='Hearts'),\n",
       " Card(rank='A', suit='Spades'),\n",
       " Card(rank='K', suit='Spades'),\n",
       " Card(rank='Q', suit='Spades'),\n",
       " Card(rank='J', suit='Spades'),\n",
       " Card(rank=10, suit='Spades'),\n",
       " Card(rank=9, suit='Spades'),\n",
       " Card(rank=8, suit='Spades'),\n",
       " Card(rank=7, suit='Spades'),\n",
       " Card(rank=6, suit='Spades'),\n",
       " Card(rank=5, suit='Spades'),\n",
       " Card(rank=4, suit='Spades'),\n",
       " Card(rank=3, suit='Spades'),\n",
       " Card(rank=2, suit='Spades')]"
      ]
     },
     "execution_count": 16,
     "metadata": {},
     "output_type": "execute_result"
    }
   ],
   "source": [
    "list(deck)"
   ]
  },
  {
   "cell_type": "markdown",
   "id": "2cbc6f64-7627-4933-a156-0ccabef09006",
   "metadata": {},
   "source": [
    "## Caveat of Using Iterators as Function Arguments"
   ]
  },
  {
   "cell_type": "code",
   "execution_count": 17,
   "id": "9ce365a2-0982-4967-97b9-f5219967aef1",
   "metadata": {},
   "outputs": [],
   "source": [
    "import random"
   ]
  },
  {
   "cell_type": "code",
   "execution_count": 18,
   "id": "7039cb2e-71ff-478d-8335-65407b7c9bb5",
   "metadata": {},
   "outputs": [],
   "source": [
    "class Randoms:\n",
    "    def __init__(self, n):\n",
    "        self.n = n\n",
    "        self.i = 0\n",
    "\n",
    "    def __iter__(self):\n",
    "        return self\n",
    "\n",
    "    def __next__(self):\n",
    "        if self.i >= self.n:\n",
    "            raise StopIteration\n",
    "        else:\n",
    "            self.i += 1\n",
    "            return random.randint(0, 100)\n",
    "            "
   ]
  },
  {
   "cell_type": "code",
   "execution_count": 19,
   "id": "53457545-7e2e-4176-a5db-3cbe11cf4948",
   "metadata": {},
   "outputs": [],
   "source": [
    "random.seed(0)"
   ]
  },
  {
   "cell_type": "code",
   "execution_count": 20,
   "id": "ee90de85-f977-4544-ac9f-eeed302c053e",
   "metadata": {},
   "outputs": [
    {
     "data": {
      "text/plain": [
       "5"
      ]
     },
     "execution_count": 20,
     "metadata": {},
     "output_type": "execute_result"
    }
   ],
   "source": [
    "l = Randoms(10)\n",
    "min(l)  # we exhaust l here"
   ]
  },
  {
   "cell_type": "code",
   "execution_count": 21,
   "id": "dfcf052c-2b92-40ba-8e32-b157cb8cad8d",
   "metadata": {},
   "outputs": [
    {
     "ename": "ValueError",
     "evalue": "max() arg is an empty sequence",
     "output_type": "error",
     "traceback": [
      "\u001b[1;31m---------------------------------------------------------------------------\u001b[0m",
      "\u001b[1;31mValueError\u001b[0m                                Traceback (most recent call last)",
      "Cell \u001b[1;32mIn[21], line 1\u001b[0m\n\u001b[1;32m----> 1\u001b[0m \u001b[38;5;28;43mmax\u001b[39;49m\u001b[43m(\u001b[49m\u001b[43ml\u001b[49m\u001b[43m)\u001b[49m\n",
      "\u001b[1;31mValueError\u001b[0m: max() arg is an empty sequence"
     ]
    }
   ],
   "source": [
    "max(l)"
   ]
  },
  {
   "cell_type": "code",
   "execution_count": 22,
   "id": "bd899761-fbfc-418a-8d83-a35c02b96256",
   "metadata": {},
   "outputs": [
    {
     "ename": "StopIteration",
     "evalue": "",
     "output_type": "error",
     "traceback": [
      "\u001b[1;31m---------------------------------------------------------------------------\u001b[0m",
      "\u001b[1;31mStopIteration\u001b[0m                             Traceback (most recent call last)",
      "Cell \u001b[1;32mIn[22], line 1\u001b[0m\n\u001b[1;32m----> 1\u001b[0m \u001b[38;5;28;43mnext\u001b[39;49m\u001b[43m(\u001b[49m\u001b[43ml\u001b[49m\u001b[43m)\u001b[49m\n",
      "Cell \u001b[1;32mIn[18], line 11\u001b[0m, in \u001b[0;36mRandoms.__next__\u001b[1;34m(self)\u001b[0m\n\u001b[0;32m      9\u001b[0m \u001b[38;5;28;01mdef\u001b[39;00m \u001b[38;5;21m__next__\u001b[39m(\u001b[38;5;28mself\u001b[39m):\n\u001b[0;32m     10\u001b[0m     \u001b[38;5;28;01mif\u001b[39;00m \u001b[38;5;28mself\u001b[39m\u001b[38;5;241m.\u001b[39mi \u001b[38;5;241m>\u001b[39m\u001b[38;5;241m=\u001b[39m \u001b[38;5;28mself\u001b[39m\u001b[38;5;241m.\u001b[39mn:\n\u001b[1;32m---> 11\u001b[0m         \u001b[38;5;28;01mraise\u001b[39;00m \u001b[38;5;167;01mStopIteration\u001b[39;00m\n\u001b[0;32m     12\u001b[0m     \u001b[38;5;28;01melse\u001b[39;00m:\n\u001b[0;32m     13\u001b[0m         \u001b[38;5;28mself\u001b[39m\u001b[38;5;241m.\u001b[39mi \u001b[38;5;241m+\u001b[39m\u001b[38;5;241m=\u001b[39m \u001b[38;5;241m1\u001b[39m\n",
      "\u001b[1;31mStopIteration\u001b[0m: "
     ]
    }
   ],
   "source": [
    "next(l)"
   ]
  },
  {
   "cell_type": "markdown",
   "id": "9e9f0da3-5fb0-493a-8d9b-333903932fbb",
   "metadata": {},
   "source": [
    "## Project"
   ]
  },
  {
   "cell_type": "markdown",
   "id": "c14af237-1d91-4027-8f0d-6bdc50a903ea",
   "metadata": {},
   "source": [
    "### Goal 1\n",
    "Refactor the Polygon class (from sequence types project section) so that all the calculated properties are lazy properties, i.e. they should still be calculated properties, but they should not have to get recalculated more than once."
   ]
  },
  {
   "cell_type": "markdown",
   "id": "f8c48725-bd66-4674-9f82-b2e3496125e4",
   "metadata": {},
   "source": [
    "Polygon class before:"
   ]
  },
  {
   "cell_type": "code",
   "execution_count": null,
   "id": "c14faf48-c96a-4f66-bd78-1402140e2eac",
   "metadata": {},
   "outputs": [],
   "source": [
    "import math\n",
    "\n",
    "\n",
    "class Polygon:\n",
    "    def __init__(self, n, R):\n",
    "        if not isinstance(n, int) or n < 3:\n",
    "            raise ValueError('n parameter has to be an integer larger than or equal to 3')\n",
    "        if not isinstance(R, (float, int)) or R <= 0:\n",
    "            raise ValueError('R parameter has to be a postive real number')\n",
    "        self._n = n\n",
    "        self._R = R\n",
    "\n",
    "    def __repr__(self):\n",
    "        return f'Polygon(n={self._n}, R={self._R})'\n",
    "\n",
    "    @property\n",
    "    def count_vertices(self):\n",
    "        return self._n\n",
    "\n",
    "    @property \n",
    "    def count_edges(self):\n",
    "        return self._n\n",
    "\n",
    "    @property\n",
    "    def circumradius(self):\n",
    "        return self._R\n",
    "\n",
    "    @property\n",
    "    def interior_angle(self):\n",
    "        return (self._n - 2) * 180 / self._n\n",
    "\n",
    "    @property\n",
    "    def side_length(self):\n",
    "        return 2 * self._R * math.sin(math.pi / self._n)\n",
    "\n",
    "    @property\n",
    "    def apothem(self):\n",
    "        return self._R * math.cos(math.pi / self._n)\n",
    "\n",
    "    @property\n",
    "    def area(self):\n",
    "        return self._n / 2 * self.side_length * self.apothem\n",
    "\n",
    "    @property\n",
    "    def perimeter(self):\n",
    "        return self._n * self.side_length\n",
    "        \n",
    "    def __eq__(self, other):\n",
    "        if isinstance(other, Polygon):\n",
    "            return self.count_edges == other.count_edges and self.circumradius == other.circumradius\n",
    "        return NotImplemented\n",
    "\n",
    "    def __gt__(self, other):\n",
    "        if isinstance(other, Polygon):\n",
    "            return self.count_edges > other.count_edges\n",
    "        return NotImplemented\n",
    "        "
   ]
  },
  {
   "cell_type": "markdown",
   "id": "2d4f5485-fa24-4b6b-9354-7616de867a20",
   "metadata": {},
   "source": [
    "After:"
   ]
  },
  {
   "cell_type": "code",
   "execution_count": 3,
   "id": "d2df8d81-e8c8-478d-805b-20a0dbaf8753",
   "metadata": {},
   "outputs": [],
   "source": [
    "import math\n",
    "\n",
    "\n",
    "class Polygon:\n",
    "    def __init__(self, n, R):\n",
    "        if not isinstance(n, int) or n < 3:\n",
    "            raise ValueError('n parameter has to be an integer larger than or equal to 3')\n",
    "        if not isinstance(R, (float, int)) or R <= 0:\n",
    "            raise ValueError('R parameter has to be a postive real number')\n",
    "        self._n = n\n",
    "        self._R = R\n",
    "        self._interior_angle = None\n",
    "        self._side_length = None\n",
    "        self._apothem = None\n",
    "        self._area = None\n",
    "        self._perimeter = None\n",
    "\n",
    "    def __repr__(self):\n",
    "        return f'Polygon(n={self._n}, R={self._R})'\n",
    "\n",
    "    @property\n",
    "    def count_vertices(self):\n",
    "        return self._n\n",
    "\n",
    "    @property \n",
    "    def count_edges(self):\n",
    "        return self._n\n",
    "\n",
    "    @property\n",
    "    def circumradius(self):\n",
    "        return self._R\n",
    "\n",
    "    @property\n",
    "    def interior_angle(self):\n",
    "        if self._interior_angle is None:\n",
    "            return (self._n - 2) * 180 / self._n\n",
    "        return self._interior_angle\n",
    "\n",
    "    @property\n",
    "    def side_length(self):\n",
    "        if self._side_length is None:\n",
    "            return 2 * self._R * math.sin(math.pi / self._n)\n",
    "        return self._side_length\n",
    "\n",
    "    @property\n",
    "    def apothem(self):\n",
    "        if self._apothem is None:\n",
    "            return self._R * math.cos(math.pi / self._n)\n",
    "        return self._apothem\n",
    "\n",
    "    @property\n",
    "    def area(self):\n",
    "        if self._area is None:\n",
    "            return self._n / 2 * self.side_length * self.apothem\n",
    "        return self._area\n",
    "\n",
    "    @property\n",
    "    def perimeter(self):\n",
    "        if self._perimeter is None:\n",
    "            return self._n * self.side_length\n",
    "        return self._perimeter\n",
    "        \n",
    "    def __eq__(self, other):\n",
    "        if isinstance(other, Polygon):\n",
    "            return self.count_edges == other.count_edges and self.circumradius == other.circumradius\n",
    "        return NotImplemented\n",
    "\n",
    "    def __gt__(self, other):\n",
    "        if isinstance(other, Polygon):\n",
    "            return self.count_edges > other.count_edges\n",
    "        return NotImplemented\n",
    "        "
   ]
  },
  {
   "cell_type": "code",
   "execution_count": 4,
   "id": "7f73af3a-e7e2-4a0d-a988-713228c108be",
   "metadata": {},
   "outputs": [],
   "source": [
    "def test_polygon():\n",
    "\n",
    "    try:\n",
    "        p = Polygon(2, 10)\n",
    "        assert False, 'Creating a Polygon with 2 sides: exception expected, but not received'\n",
    "    except ValueError:\n",
    "        pass\n",
    "\n",
    "    try:\n",
    "        p = Polygon(3, -1)\n",
    "        assert False, 'Creating a Polygon with negative cirmuradius: exception expected, but not received'\n",
    "    except ValueError:\n",
    "        pass\n",
    "    \n",
    "    n = 3\n",
    "    R = 1\n",
    "    p = Polygon(n, R)\n",
    "    assert str(p) == f'Polygon(n=3, R=1)', f'actual: {str(p)}'\n",
    "    assert p.count_vertices == 3, f'actual: {p.count_vertices}, expected: {n}'\n",
    "    assert p.count_edges == 3, f'actual: {p.count_edges}, expected: {n}'\n",
    "    assert p.circumradius == 1, f'actual: {p.circumradius}, expected: {R}'\n",
    "    assert p.interior_angle == 60, f'actual: {p.interior_angle}, expected: 60'\n",
    "    assert p.side_length == math.sqrt(3), f'actual: {p.side_length}, expected: {math.sqrt(3)}'\n",
    "    assert math.isclose(p.apothem, 0.5), f'actual: {p.apothem}, expected: 0.5'\n",
    "    assert math.isclose(p.area, 3 / 4 * math.sqrt(3)), f'actual: {p.area}, expected: {3 / 4 * math.sqrt(3)}'\n",
    "    assert math.isclose(p.perimeter, 3 * math.sqrt(3)), f'actual: {p.perimeter}, expected: {3 * math.sqrt(3)}'\n",
    "\n",
    "    n1, n2, n3 = 5, 6, 6\n",
    "    R1, R2, R3 = 1, 3, 3\n",
    "    p1 = Polygon(n1, R1)\n",
    "    p2 = Polygon(n2, R2)\n",
    "    p3 = Polygon(n3, R3)\n",
    "    assert p1 != p2\n",
    "    assert p2 == p3\n",
    "    assert not(p1 > p2)\n",
    "    assert p2 > p1\n",
    "    assert not(p3 < p2)\n",
    "  "
   ]
  },
  {
   "cell_type": "code",
   "execution_count": 5,
   "id": "981a3491-d4af-434d-99ef-4f0c2f24d5c4",
   "metadata": {},
   "outputs": [],
   "source": [
    "test_polygon()"
   ]
  },
  {
   "cell_type": "markdown",
   "id": "f3e46294-988b-462c-9e1f-701e80f0ae60",
   "metadata": {},
   "source": [
    "### Goal 2\n",
    "Refactor the Polygons (sequence) type into an interable. Make sure also that the elements in the iterator are computed lazily - i.e. you can no longer use a list as an underlying storage mechanism for your polygons. You'll need to implement both an iterable, and an iterator."
   ]
  },
  {
   "cell_type": "markdown",
   "id": "65deb248-1f73-4cd1-953b-7112e2ff472a",
   "metadata": {},
   "source": [
    "Before:"
   ]
  },
  {
   "cell_type": "code",
   "execution_count": 23,
   "id": "82ab27d4-ffbf-46f1-abf9-3a82287a1f63",
   "metadata": {},
   "outputs": [],
   "source": [
    "class Polygons:\n",
    "    def __init__(self, m, R):\n",
    "        if not isinstance(m, int) or m < 3:\n",
    "            raise ValueError('m parameter has to be an integer larger than or equal to 3')\n",
    "        if not isinstance(R, (float, int)) or R <= 0:\n",
    "            raise ValueError('R parameter has to be a positive real number')\n",
    "        self._m = m\n",
    "        self._R = R\n",
    "        self._polygons = [Polygon(i, R) for i in range(3, m + 1)]\n",
    "\n",
    "    def __len__(self):\n",
    "        return self._m - 2\n",
    "\n",
    "    def __repr__(self):\n",
    "        return f'Polygons(m={self._m}, R={self._R})'\n",
    "\n",
    "    def __getitem__(self, s):\n",
    "        return self._polygons[s]\n",
    "\n",
    "    @property\n",
    "    def max_efficiency_polygon(self):\n",
    "        return sorted(self._polygons, key=lambda p: p.area / p.perimeter)[-1]\n",
    "        "
   ]
  },
  {
   "cell_type": "markdown",
   "id": "2f16f1ed-31dc-495a-bbf2-22780efdab94",
   "metadata": {},
   "source": [
    "After:"
   ]
  },
  {
   "cell_type": "code",
   "execution_count": 24,
   "id": "86449d76-33fe-45dc-8f81-ce4549169356",
   "metadata": {},
   "outputs": [],
   "source": [
    "class Polygons:\n",
    "    def __init__(self, m, R):\n",
    "        if not isinstance(m, int) or m < 3:\n",
    "            raise ValueError('m parameter has to be an integer larger than or equal to 3')\n",
    "        if not isinstance(R, (float, int)) or R <= 0:\n",
    "            raise ValueError('R parameter has to be a positive real number')\n",
    "        self._m = m\n",
    "        self._R = R\n",
    "\n",
    "    def __len__(self):\n",
    "        return self._m - 2\n",
    "\n",
    "    def __repr__(self):\n",
    "        return f'Polygons(m={self._m}, R={self._R})'\n",
    "\n",
    "    def __iter__(self):\n",
    "        return self.PolygonsIterator(self._m, self._R)\n",
    "\n",
    "    class PolygonsIterator:\n",
    "        def __init__(self, m, R):\n",
    "            if not isinstance(m, int) or m < 3:\n",
    "                raise ValueError('m parameter has to be an integer larger than or equal to 3')\n",
    "            if not isinstance(R, (float, int)) or R <= 0:\n",
    "                raise ValueError('R parameter has to be a positive real number')\n",
    "            self._m = m\n",
    "            self._R = R\n",
    "            self._i = 3  # i is the number of sides, must be at least 3\n",
    "\n",
    "        def __iter__(self):\n",
    "            return self\n",
    "\n",
    "        def __next__(self):\n",
    "            if self._i > self._m:\n",
    "                raise StopIteration\n",
    "            else:\n",
    "                result = Polygon(self._i, self._R)\n",
    "                self._i += 1\n",
    "                return result\n",
    "\n",
    "    @property\n",
    "    def max_efficiency_polygon(self):\n",
    "        return sorted(iter(self), key=lambda p: p.area / p.perimeter)[-1]\n",
    "        "
   ]
  },
  {
   "cell_type": "code",
   "execution_count": 25,
   "id": "9eae5472-5248-41ec-9481-4e5f0c39f7ab",
   "metadata": {},
   "outputs": [],
   "source": [
    "p_iter = iter(Polygons(6, 3))"
   ]
  },
  {
   "cell_type": "code",
   "execution_count": 26,
   "id": "04b3c95e-ee10-42fe-8f74-08bd7426b343",
   "metadata": {},
   "outputs": [
    {
     "data": {
      "text/plain": [
       "__main__.Polygons.PolygonsIterator"
      ]
     },
     "execution_count": 26,
     "metadata": {},
     "output_type": "execute_result"
    }
   ],
   "source": [
    "type(p_iter)"
   ]
  },
  {
   "cell_type": "code",
   "execution_count": 27,
   "id": "92a7d62c-05a6-4ca6-b3bb-a83f60168ac9",
   "metadata": {},
   "outputs": [
    {
     "name": "stdout",
     "output_type": "stream",
     "text": [
      "Polygon(n=3, R=3)\n",
      "<class '__main__.Polygon'>\n",
      "Polygon(n=4, R=3)\n",
      "<class '__main__.Polygon'>\n",
      "Polygon(n=5, R=3)\n",
      "<class '__main__.Polygon'>\n",
      "Polygon(n=6, R=3)\n",
      "<class '__main__.Polygon'>\n"
     ]
    }
   ],
   "source": [
    "for pol in p_iter:\n",
    "    print(pol), print(type(pol))"
   ]
  },
  {
   "cell_type": "code",
   "execution_count": 28,
   "id": "3d62c86c-569f-43f5-a104-ea1551e2e51b",
   "metadata": {},
   "outputs": [
    {
     "ename": "StopIteration",
     "evalue": "",
     "output_type": "error",
     "traceback": [
      "\u001b[1;31m---------------------------------------------------------------------------\u001b[0m",
      "\u001b[1;31mStopIteration\u001b[0m                             Traceback (most recent call last)",
      "Cell \u001b[1;32mIn[28], line 1\u001b[0m\n\u001b[1;32m----> 1\u001b[0m \u001b[38;5;28;43mnext\u001b[39;49m\u001b[43m(\u001b[49m\u001b[43mp_iter\u001b[49m\u001b[43m)\u001b[49m  \u001b[38;5;66;03m# OK, it has been exhausted in the cell before\u001b[39;00m\n",
      "Cell \u001b[1;32mIn[24], line 34\u001b[0m, in \u001b[0;36mPolygons.PolygonsIterator.__next__\u001b[1;34m(self)\u001b[0m\n\u001b[0;32m     32\u001b[0m \u001b[38;5;28;01mdef\u001b[39;00m \u001b[38;5;21m__next__\u001b[39m(\u001b[38;5;28mself\u001b[39m):\n\u001b[0;32m     33\u001b[0m     \u001b[38;5;28;01mif\u001b[39;00m \u001b[38;5;28mself\u001b[39m\u001b[38;5;241m.\u001b[39m_i \u001b[38;5;241m>\u001b[39m \u001b[38;5;28mself\u001b[39m\u001b[38;5;241m.\u001b[39m_m:\n\u001b[1;32m---> 34\u001b[0m         \u001b[38;5;28;01mraise\u001b[39;00m \u001b[38;5;167;01mStopIteration\u001b[39;00m\n\u001b[0;32m     35\u001b[0m     \u001b[38;5;28;01melse\u001b[39;00m:\n\u001b[0;32m     36\u001b[0m         result \u001b[38;5;241m=\u001b[39m Polygon(\u001b[38;5;28mself\u001b[39m\u001b[38;5;241m.\u001b[39m_i, \u001b[38;5;28mself\u001b[39m\u001b[38;5;241m.\u001b[39m_R)\n",
      "\u001b[1;31mStopIteration\u001b[0m: "
     ]
    }
   ],
   "source": [
    "next(p_iter)  # OK, it has been exhausted in the cell before"
   ]
  },
  {
   "cell_type": "code",
   "execution_count": 29,
   "id": "c1c887f1-b929-440c-a5a7-8e68f52d38dc",
   "metadata": {},
   "outputs": [
    {
     "data": {
      "text/plain": [
       "Polygon(n=6, R=3)"
      ]
     },
     "execution_count": 29,
     "metadata": {},
     "output_type": "execute_result"
    }
   ],
   "source": [
    "Polygons(6, 3).max_efficiency_polygon"
   ]
  }
 ],
 "metadata": {
  "kernelspec": {
   "display_name": "Python 3 (ipykernel)",
   "language": "python",
   "name": "python3"
  },
  "language_info": {
   "codemirror_mode": {
    "name": "ipython",
    "version": 3
   },
   "file_extension": ".py",
   "mimetype": "text/x-python",
   "name": "python",
   "nbconvert_exporter": "python",
   "pygments_lexer": "ipython3",
   "version": "3.11.3"
  }
 },
 "nbformat": 4,
 "nbformat_minor": 5
}
