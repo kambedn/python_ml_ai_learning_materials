{
 "cells": [
  {
   "cell_type": "markdown",
   "id": "632dbe0d-e6a0-4c43-973a-3fa3d57f7fc3",
   "metadata": {},
   "source": [
    "# Sorting Sequences"
   ]
  },
  {
   "cell_type": "markdown",
   "id": "2339f307-b495-4e4c-b4bc-fe0ba0997f5d",
   "metadata": {},
   "source": [
    "Python provides in-built function sorted() which sorts an iterable in ascending order by default."
   ]
  },
  {
   "cell_type": "code",
   "execution_count": 3,
   "id": "fa3b1ab6-069b-4aab-8d04-511aaa3f2704",
   "metadata": {},
   "outputs": [
    {
     "name": "stdout",
     "output_type": "stream",
     "text": [
      "Help on built-in function sorted in module builtins:\n",
      "\n",
      "sorted(iterable, /, *, key=None, reverse=False)\n",
      "    Return a new list containing all items from the iterable in ascending order.\n",
      "    \n",
      "    A custom key function can be supplied to customize the sort order, and the\n",
      "    reverse flag can be set to request the result in descending order.\n",
      "\n"
     ]
    }
   ],
   "source": [
    "help(sorted)"
   ]
  },
  {
   "cell_type": "markdown",
   "id": "3275e74a-5980-4ef5-a7ad-b70952581976",
   "metadata": {},
   "source": [
    "This function:\n",
    "- makes a copy of the iterable,\n",
    "- returns a list,\n",
    "- uses TimSort,\n",
    "- performs a stable sort (maintaining the relative order of items with equal keys),\n",
    "- sorts in descending order if the reverse argument is set to True."
   ]
  },
  {
   "cell_type": "markdown",
   "id": "87037b7b-c3f7-4741-a96a-4ef9f5c31ade",
   "metadata": {},
   "source": [
    "If the items in the iterable are not pairwise comparable (i.e., they do not implement < or >), you can provide a function to the key argument that returns a sort key for each item. Sorting is then performed based on these sort keys."
   ]
  },
  {
   "cell_type": "code",
   "execution_count": 5,
   "id": "4f29b542-74da-4fe1-bafd-e2f541db0743",
   "metadata": {},
   "outputs": [
    {
     "data": {
      "text/plain": [
       "[1, 3, 5, 6, 8, 9, 10]"
      ]
     },
     "execution_count": 5,
     "metadata": {},
     "output_type": "execute_result"
    }
   ],
   "source": [
    "t = 10, 3, 5, 8, 9, 6, 1  # a tuple\n",
    "sorted(t)  # a list is returned"
   ]
  },
  {
   "cell_type": "code",
   "execution_count": 7,
   "id": "3f01418d-67f6-4998-bd52-0f1416a4f751",
   "metadata": {},
   "outputs": [
    {
     "ename": "TypeError",
     "evalue": "'<' not supported between instances of 'complex' and 'complex'",
     "output_type": "error",
     "traceback": [
      "\u001b[1;31m---------------------------------------------------------------------------\u001b[0m",
      "\u001b[1;31mTypeError\u001b[0m                                 Traceback (most recent call last)",
      "Cell \u001b[1;32mIn[7], line 2\u001b[0m\n\u001b[0;32m      1\u001b[0m t \u001b[38;5;241m=\u001b[39m \u001b[38;5;241m1\u001b[39m \u001b[38;5;241m+\u001b[39m \u001b[38;5;241m1\u001b[39mj, \u001b[38;5;241m10\u001b[39m \u001b[38;5;241m+\u001b[39m \u001b[38;5;241m0\u001b[39mj, \u001b[38;5;241m20\u001b[39m \u001b[38;5;241m+\u001b[39m \u001b[38;5;241m3\u001b[39mj \n\u001b[1;32m----> 2\u001b[0m \u001b[38;5;28;43msorted\u001b[39;49m\u001b[43m(\u001b[49m\u001b[43mt\u001b[49m\u001b[43m)\u001b[49m  \u001b[38;5;66;03m# won't work as we don't have natural order with complex number\u001b[39;00m\n",
      "\u001b[1;31mTypeError\u001b[0m: '<' not supported between instances of 'complex' and 'complex'"
     ]
    }
   ],
   "source": [
    "t = 1 + 1j, 10 + 0j, 20 + 3j \n",
    "sorted(t)  # won't work as we don't have natural order with complex number"
   ]
  },
  {
   "cell_type": "code",
   "execution_count": 8,
   "id": "b74c959b-ccd0-4090-826c-cab07ef875ab",
   "metadata": {},
   "outputs": [
    {
     "data": {
      "text/plain": [
       "[1, 2, 3]"
      ]
     },
     "execution_count": 8,
     "metadata": {},
     "output_type": "execute_result"
    }
   ],
   "source": [
    "d = {3: 100, 2: 200, 1: 10}\n",
    "sorted(d)  # only keys"
   ]
  },
  {
   "cell_type": "code",
   "execution_count": 9,
   "id": "c79f5201-2c7d-411a-bcbc-c56bbdb0bdc3",
   "metadata": {},
   "outputs": [
    {
     "data": {
      "text/plain": [
       "['c', 'b', 'a']"
      ]
     },
     "execution_count": 9,
     "metadata": {},
     "output_type": "execute_result"
    }
   ],
   "source": [
    "d = {'a': 100, 'b': 50, 'c': 10}\n",
    "sorted(d, key=lambda x: d[x])  # sorting keys based on values"
   ]
  },
  {
   "cell_type": "code",
   "execution_count": 11,
   "id": "41ccaa69-44fd-489e-bcf1-a1100b385bd2",
   "metadata": {},
   "outputs": [
    {
     "data": {
      "text/plain": [
       "['a', 'bird', 'is', 'late', 'parrot', 'this']"
      ]
     },
     "execution_count": 11,
     "metadata": {},
     "output_type": "execute_result"
    }
   ],
   "source": [
    "t = 'this', 'parrot', 'is', 'a', 'late', 'bird'\n",
    "sorted(t)  # lexicographically"
   ]
  },
  {
   "cell_type": "code",
   "execution_count": 12,
   "id": "ccc878fd-d403-45df-b874-fffa6df8dd33",
   "metadata": {},
   "outputs": [
    {
     "data": {
      "text/plain": [
       "['a', 'is', 'this', 'late', 'bird', 'parrot']"
      ]
     },
     "execution_count": 12,
     "metadata": {},
     "output_type": "execute_result"
    }
   ],
   "source": [
    "def sort_key(s):\n",
    "    return len(s)\n",
    "\n",
    "\n",
    "sorted(t, key=sort_key)  # we can also use regular functions"
   ]
  },
  {
   "cell_type": "code",
   "execution_count": 14,
   "id": "587be118-d13b-436f-b89e-dc8b1c9e87c9",
   "metadata": {},
   "outputs": [
    {
     "data": {
      "text/plain": [
       "[(1+0j), 1j, (1+1j), (2+2j)]"
      ]
     },
     "execution_count": 14,
     "metadata": {},
     "output_type": "execute_result"
    }
   ],
   "source": [
    "t = 1+1j, 2+2j, 1+0j, 0+1j\n",
    "sorted(t, key=lambda c: abs(c))  # sorting based on the distance from the origin"
   ]
  },
  {
   "cell_type": "code",
   "execution_count": 17,
   "id": "efb3a21d-3a58-4ab3-87f5-0b62697033d5",
   "metadata": {},
   "outputs": [
    {
     "data": {
      "text/plain": [
       "[(2+2j), (1+1j), 1j, (1+0j)]"
      ]
     },
     "execution_count": 17,
     "metadata": {},
     "output_type": "execute_result"
    }
   ],
   "source": [
    "sorted(t, key=lambda c: c.imag, reverse=True)  # sorting based on the imaginary part"
   ]
  },
  {
   "cell_type": "code",
   "execution_count": 19,
   "id": "a1441af8-c3fc-48ce-b2ef-3715ebfdf52b",
   "metadata": {},
   "outputs": [
    {
     "data": {
      "text/plain": [
       "((1+1j), (2+2j), (1+0j), 1j)"
      ]
     },
     "execution_count": 19,
     "metadata": {},
     "output_type": "execute_result"
    }
   ],
   "source": [
    "t  # the original iterable has not been changed "
   ]
  },
  {
   "cell_type": "markdown",
   "id": "2fb4b6a3-0567-47b8-8582-f0c39531af9b",
   "metadata": {},
   "source": [
    "Mutable sequence types may support in-place sorting (but they don't have to). <br>\n",
    "For example, list class has sort() instance method which performs in-place sorting."
   ]
  },
  {
   "cell_type": "code",
   "execution_count": 23,
   "id": "294b9bb3-72d4-4656-a1a4-f763b535ccb6",
   "metadata": {},
   "outputs": [],
   "source": [
    "l = ['this', 'parrot', 'is', 'a', 'late', 'bird']"
   ]
  },
  {
   "cell_type": "code",
   "execution_count": 24,
   "id": "98411ce4-39fd-472b-a856-61a407c1fa1e",
   "metadata": {},
   "outputs": [],
   "source": [
    "result = l.sort(key=lambda s:len(s))\n",
    "result"
   ]
  },
  {
   "cell_type": "code",
   "execution_count": 25,
   "id": "e1fc545a-82d1-42ae-b7bc-5113cc5627ce",
   "metadata": {},
   "outputs": [
    {
     "data": {
      "text/plain": [
       "NoneType"
      ]
     },
     "execution_count": 25,
     "metadata": {},
     "output_type": "execute_result"
    }
   ],
   "source": [
    "type(result)  # .sort() does not return anything"
   ]
  },
  {
   "cell_type": "code",
   "execution_count": 27,
   "id": "155165e6-dad5-4b6a-9d90-097b3c08eb38",
   "metadata": {},
   "outputs": [
    {
     "data": {
      "text/plain": [
       "['a', 'is', 'this', 'late', 'bird', 'parrot']"
      ]
     },
     "execution_count": 27,
     "metadata": {},
     "output_type": "execute_result"
    }
   ],
   "source": [
    "l  # the original list has been changed"
   ]
  },
  {
   "cell_type": "markdown",
   "id": "9bf8f088-7d9d-41d1-aedf-385e2a3a2471",
   "metadata": {},
   "source": [
    "#### Comparing sorted() and .sort()"
   ]
  },
  {
   "cell_type": "code",
   "execution_count": 28,
   "id": "42c388e0-7145-45c6-8089-1a2cf032084a",
   "metadata": {},
   "outputs": [],
   "source": [
    "from timeit import timeit\n",
    "import random"
   ]
  },
  {
   "cell_type": "code",
   "execution_count": 36,
   "id": "c4463e6d-e93c-43df-bb46-b94d34fc3ba2",
   "metadata": {},
   "outputs": [],
   "source": [
    "random.seed(0)\n",
    "n = 10_000_000\n",
    "l = [random.randint(0, 100) for _ in range(n)]"
   ]
  },
  {
   "cell_type": "code",
   "execution_count": 37,
   "id": "14e145ba-a542-4fd4-9d01-3fd279f5ba18",
   "metadata": {},
   "outputs": [
    {
     "data": {
      "text/plain": [
       "1.0243846999983361"
      ]
     },
     "execution_count": 37,
     "metadata": {},
     "output_type": "execute_result"
    }
   ],
   "source": [
    "timeit(stmt='sorted(l)', globals=globals(), number=1)"
   ]
  },
  {
   "cell_type": "code",
   "execution_count": 38,
   "id": "b069def7-9028-48de-be7c-821817fd10b4",
   "metadata": {},
   "outputs": [
    {
     "data": {
      "text/plain": [
       "1.0036460000010266"
      ]
     },
     "execution_count": 38,
     "metadata": {},
     "output_type": "execute_result"
    }
   ],
   "source": [
    "timeit(stmt='l.sort()', globals=globals(), number=1)  # a little bit more efficient"
   ]
  },
  {
   "cell_type": "markdown",
   "id": "631205ce-731a-4383-bc91-a8d209e62d18",
   "metadata": {},
   "source": [
    "#### Natural ordering for custom classes"
   ]
  },
  {
   "cell_type": "markdown",
   "id": "ceced7dc-8f32-47f3-94ae-43158cff4698",
   "metadata": {},
   "source": [
    "To enable natural sort order in a custom class, you need to implement at least the \\__lt\\__ or \\__gt\\__ method to define how instances should be compared."
   ]
  },
  {
   "cell_type": "code",
   "execution_count": 39,
   "id": "ebc3c2ff-b7dd-407c-bbea-cf04da988e46",
   "metadata": {},
   "outputs": [],
   "source": [
    "class MyClass:\n",
    "    def __init__(self, name, val):\n",
    "        self.name = name\n",
    "        self.val = val\n",
    "\n",
    "    def __repr__(self):\n",
    "        return f\"MyClass({self.name}, {self.val})\"\n",
    "\n",
    "    def __lt__(self, other):\n",
    "        return self.val < other.val"
   ]
  },
  {
   "cell_type": "code",
   "execution_count": 40,
   "id": "e5303c66-7a57-43d4-b57a-6c09c29aa249",
   "metadata": {},
   "outputs": [],
   "source": [
    "c1 = MyClass('c1', 20)\n",
    "c2 = MyClass('c2', 10)\n",
    "c3 = MyClass('c3', 20)\n",
    "c4 = MyClass('c4', 10)"
   ]
  },
  {
   "cell_type": "code",
   "execution_count": 41,
   "id": "8042101b-ac61-404b-be90-eb327efecac6",
   "metadata": {},
   "outputs": [
    {
     "name": "stdout",
     "output_type": "stream",
     "text": [
      "False\n",
      "True\n"
     ]
    }
   ],
   "source": [
    "print(c1 < c2)\n",
    "print(c2 < c1)"
   ]
  },
  {
   "cell_type": "code",
   "execution_count": 43,
   "id": "f3539d3e-e4a9-4954-a0d9-57296606c217",
   "metadata": {},
   "outputs": [],
   "source": [
    "l = [c1, c2, c3, c4]"
   ]
  },
  {
   "cell_type": "code",
   "execution_count": 44,
   "id": "5c6ce47c-7ae4-4c99-9c0f-d8fa0b6f10f8",
   "metadata": {},
   "outputs": [
    {
     "data": {
      "text/plain": [
       "[MyClass(c2, 10), MyClass(c4, 10), MyClass(c1, 20), MyClass(c3, 20)]"
      ]
     },
     "execution_count": 44,
     "metadata": {},
     "output_type": "execute_result"
    }
   ],
   "source": [
    "sorted(l)"
   ]
  },
  {
   "cell_type": "code",
   "execution_count": 45,
   "id": "3f0b2691-8dc6-4337-a47b-f49cfa61c606",
   "metadata": {},
   "outputs": [
    {
     "data": {
      "text/plain": [
       "[MyClass(c1, 20), MyClass(c2, 10), MyClass(c3, 20), MyClass(c4, 10)]"
      ]
     },
     "execution_count": 45,
     "metadata": {},
     "output_type": "execute_result"
    }
   ],
   "source": [
    "sorted(l, key=lambda x: x.name)"
   ]
  }
 ],
 "metadata": {
  "kernelspec": {
   "display_name": "Python 3 (ipykernel)",
   "language": "python",
   "name": "python3"
  },
  "language_info": {
   "codemirror_mode": {
    "name": "ipython",
    "version": 3
   },
   "file_extension": ".py",
   "mimetype": "text/x-python",
   "name": "python",
   "nbconvert_exporter": "python",
   "pygments_lexer": "ipython3",
   "version": "3.11.3"
  }
 },
 "nbformat": 4,
 "nbformat_minor": 5
}
